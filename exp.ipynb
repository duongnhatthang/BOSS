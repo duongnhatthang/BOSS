{
 "cells": [
  {
   "cell_type": "code",
   "execution_count": 5,
   "metadata": {},
   "outputs": [
    {
     "name": "stdout",
     "output_type": "stream",
     "text": [
      "The autoreload extension is already loaded. To reload it, use:\n",
      "  %reload_ext autoreload\n"
     ]
    }
   ],
   "source": [
    "import numpy as np\n",
    "import matplotlib.pyplot as plt\n",
    "\n",
    "from evaluation import eval_UCB, eval_TS, eval_PHE\n",
    "%load_ext autoreload\n",
    "%autoreload 2"
   ]
  },
  {
   "cell_type": "code",
   "execution_count": 25,
   "metadata": {},
   "outputs": [],
   "source": [
    "d = 10\n",
    "N = 20\n",
    "alpha_set = [1.0] # Bonus for UCB\n",
    "v_set = [1.0] # Bonus for TS\n",
    "alpha_PHE_set = [1.0] # Bonus for PHE\n",
    "T = 1000 # Timesteps\n",
    "M = 3 # Number of Simulations"
   ]
  },
  {
   "cell_type": "code",
   "execution_count": 26,
   "metadata": {},
   "outputs": [
    {
     "name": "stdout",
     "output_type": "stream",
     "text": [
      "UCB Simulation 1, N=20, d=10, alpha=1.000\n"
     ]
    },
    {
     "name": "stderr",
     "output_type": "stream",
     "text": [
      "100%|██████████| 1000/1000 [00:02<00:00, 412.04it/s]\n"
     ]
    },
    {
     "name": "stdout",
     "output_type": "stream",
     "text": [
      "UCB Simulation 2, N=20, d=10, alpha=1.000\n"
     ]
    },
    {
     "name": "stderr",
     "output_type": "stream",
     "text": [
      "100%|██████████| 1000/1000 [00:02<00:00, 412.81it/s]\n"
     ]
    },
    {
     "name": "stdout",
     "output_type": "stream",
     "text": [
      "UCB Simulation 3, N=20, d=10, alpha=1.000\n"
     ]
    },
    {
     "name": "stderr",
     "output_type": "stream",
     "text": [
      "100%|██████████| 1000/1000 [00:02<00:00, 415.44it/s]\n"
     ]
    }
   ],
   "source": [
    "best_UCB = eval_UCB(N=N, d=d, alpha_set=alpha_set, T=T, M=M, output=True)"
   ]
  },
  {
   "cell_type": "code",
   "execution_count": 27,
   "metadata": {},
   "outputs": [
    {
     "name": "stdout",
     "output_type": "stream",
     "text": [
      "TS Simulation 1, N=20, d=10, v=1.000\n"
     ]
    },
    {
     "name": "stderr",
     "output_type": "stream",
     "text": [
      "100%|██████████| 1000/1000 [00:02<00:00, 393.56it/s]\n"
     ]
    },
    {
     "name": "stdout",
     "output_type": "stream",
     "text": [
      "TS Simulation 2, N=20, d=10, v=1.000\n"
     ]
    },
    {
     "name": "stderr",
     "output_type": "stream",
     "text": [
      "100%|██████████| 1000/1000 [00:02<00:00, 365.03it/s]\n"
     ]
    },
    {
     "name": "stdout",
     "output_type": "stream",
     "text": [
      "TS Simulation 3, N=20, d=10, v=1.000\n"
     ]
    },
    {
     "name": "stderr",
     "output_type": "stream",
     "text": [
      "100%|██████████| 1000/1000 [00:02<00:00, 342.54it/s]\n"
     ]
    }
   ],
   "source": [
    "best_TS = eval_TS(N=N, d=d, v_set=v_set, T=T, M=M, output=True)"
   ]
  },
  {
   "cell_type": "code",
   "execution_count": 28,
   "metadata": {},
   "outputs": [
    {
     "name": "stdout",
     "output_type": "stream",
     "text": [
      "PHE Simulation 1, N=20, d=10, alpha=1.000\n"
     ]
    },
    {
     "name": "stderr",
     "output_type": "stream",
     "text": [
      "100%|██████████| 1000/1000 [00:02<00:00, 374.93it/s]\n"
     ]
    },
    {
     "name": "stdout",
     "output_type": "stream",
     "text": [
      "PHE Simulation 2, N=20, d=10, alpha=1.000\n"
     ]
    },
    {
     "name": "stderr",
     "output_type": "stream",
     "text": [
      "100%|██████████| 1000/1000 [00:02<00:00, 391.34it/s]\n"
     ]
    },
    {
     "name": "stdout",
     "output_type": "stream",
     "text": [
      "PHE Simulation 3, N=20, d=10, alpha=1.000\n"
     ]
    },
    {
     "name": "stderr",
     "output_type": "stream",
     "text": [
      "100%|██████████| 1000/1000 [00:02<00:00, 390.32it/s]\n"
     ]
    }
   ],
   "source": [
    "best_PHE = eval_PHE(N=N, d=d, alpha_set=alpha_PHE_set, T=T, M=M, output=True)"
   ]
  },
  {
   "cell_type": "code",
   "execution_count": 29,
   "metadata": {},
   "outputs": [
    {
     "data": {
      "image/png": "[encoded data removed]",
      "text/plain": [
       "<Figure size 432x288 with 1 Axes>"
      ]
     },
     "metadata": {
      "needs_background": "light"
     },
     "output_type": "display_data"
    }
   ],
   "source": [
    "mean_UCB = np.mean(best_UCB['regrets'], axis=0)\n",
    "std_UCB = np.std(best_UCB['regrets'], axis=0)\n",
    "mean_TS = np.mean(best_TS['regrets'], axis=0)\n",
    "std_TS = np.std(best_TS['regrets'], axis=0)\n",
    "mean_PHE = np.mean(best_PHE['regrets'], axis=0)\n",
    "std_PHD = np.std(best_PHE['regrets'], axis=0)\n",
    "\n",
    "plt.plot(np.arange(1,T+1), mean_UCB, '-.', label='UCB')\n",
    "plt.fill_between(np.arange(1,T+1), mean_UCB-std_UCB, mean_UCB+std_UCB, alpha=0.5)\n",
    "plt.plot(np.arange(1,T+1), mean_TS, '-.', label='TS')\n",
    "plt.fill_between(np.arange(1,T+1), mean_TS-std_TS, mean_TS+std_TS, alpha=0.5)\n",
    "plt.plot(np.arange(1,T+1), mean_PHE, '-.', label='PHE')\n",
    "plt.fill_between(np.arange(1,T+1), mean_PHE-std_PHD, mean_PHE+std_PHD, alpha=0.5)\n",
    "\n",
    "plt.legend()\n",
    "plt.show()\n",
    "plt.close()"
   ]
  },
  {
   "cell_type": "code",
   "execution_count": null,
   "metadata": {},
   "outputs": [],
   "source": []
  }
 ],
 "metadata": {
  "kernelspec": {
   "display_name": "Python 3",
   "language": "python",
   "name": "python3"
  },
  "language_info": {
   "codemirror_mode": {
    "name": "ipython",
    "version": 3
   },
   "file_extension": ".py",
   "mimetype": "text/x-python",
   "name": "python",
   "nbconvert_exporter": "python",
   "pygments_lexer": "ipython3",
   "version": "3.9.7"
  },
  "orig_nbformat": 4
 },
 "nbformat": 4,
 "nbformat_minor": 2
}
