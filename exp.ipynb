{
 "cells": [
  {
   "cell_type": "code",
   "execution_count": 1,
   "metadata": {},
   "outputs": [],
   "source": [
    "import numpy as np\n",
    "import matplotlib.pyplot as plt\n",
    "\n",
    "from evaluation import eval, eval_multi, logger, MODE_ADVERSARY, MODE_RANDOM, MODE_ADV_TASK_DIVERSITY\n",
    "%load_ext autoreload\n",
    "%autoreload 2"
   ]
  },
  {
   "cell_type": "code",
   "execution_count": 2,
   "metadata": {},
   "outputs": [],
   "source": [
    "T = 100 # Timesteps/horizon\n",
    "n_task = 150\n",
    "alpha_set = [1.0] # Bonus for UCB\n",
    "v_set = [1.0] # Bonus for TS\n",
    "alpha_PHE_set = [1.0] # Bonus for PHE\n",
    "tau_1_PEGE_set = [T//2] # EXR length for PEGE\n",
    "is_multi = True\n",
    "input_dict = {\n",
    "    \"d\":5, # n_dims\n",
    "    \"unit_ball_action\": True,\n",
    "    \"n_gen_context\":20, #if not unit ball action set, how many action sampled from the action set\n",
    "    \"T\":T, # Timesteps/horizon\n",
    "    \"n_sim\":5, # Number of Simulations\n",
    "    \"rho\":0.5,\n",
    "    \"noise_std\":0.3,\n",
    "    \"seed\":None, #TODO: bug here, must set to None\n",
    "    \"output\":True,\n",
    "    \"params_set\":alpha_set,\n",
    "    \"m\":1, # n_dims latent\n",
    "    \"n_task\":n_task,\n",
    "    \"mode\":MODE_ADV_TASK_DIVERSITY,\n",
    "    \"adv_exr_const\":1, # scaling factor for adversary task generation\n",
    "    \"PMA_exr_const\":1.5, # scaling factor for exploration probability\n",
    "    \"PMA_lr_const\":1, # scaling factor for the learning rate\n",
    "    \"PMA_n_expert\":100000, # Expert set size for PMA\n",
    "    \"PMA_tau1_const\":1, # scaling factor for PEGE's EXR length in the EXR phase\n",
    "    \"PMA_tau2_const\":1, # scaling factor for PEGE's EXR length in the EXT phase\n",
    "    \"PMA_alpha_const\":1, # scaling factor for PMA's alpha threshold\n",
    "    \"p_decay_rate\":0, # decay rate for EXR prob. May be useful for Task Diversity setting\n",
    "    \"PMA_stop_exr\":n_task, # Stop EXR after PMA_stop_exr step\n",
    "    \"PMA_no_oracle\":False,\n",
    "    \"SeqRepL_exr_const\":1.5,\n",
    "    \"SeqRepL_tau1_const\":1,\n",
    "    \"SeqRepL_tau2_const\":1,\n",
    "    \"SeqRepL_stop_exr\":n_task, # Stop EXR after PMA_stop_exr step\n",
    "}\n",
    "m = input_dict[\"m\"]\n",
    "d = input_dict[\"d\"]\n",
    "assert m<=d, \"m >= d\"\n",
    "if T<d**2:\n",
    "    logger.info(f\"Warning: T < d**2\")\n",
    "if n_task < np.sqrt(T):\n",
    "    logger.info(f\"Warning: n_task < np.sqrt(T)\")"
   ]
  },
  {
   "cell_type": "code",
   "execution_count": 3,
   "metadata": {},
   "outputs": [
    {
     "name": "stdout",
     "output_type": "stream",
     "text": [
      "PEGE Simulation 1, N_gen_ctx=20, d=5\n",
      "B=[[-0.44958841]\n",
      " [ 0.65659647]\n",
      " [-0.22324089]\n",
      " [ 0.38765646]\n",
      " [ 0.40821234]]\n"
     ]
    },
    {
     "name": "stderr",
     "output_type": "stream",
     "text": [
      "100%|██████████| 150/150 [00:00<00:00, 580.81it/s]\n"
     ]
    },
    {
     "name": "stdout",
     "output_type": "stream",
     "text": [
      "PEGE Simulation 2, N_gen_ctx=20, d=5\n",
      "B=[[-0.93675936]\n",
      " [-0.03312758]\n",
      " [ 0.10750566]\n",
      " [-0.26577213]\n",
      " [-0.19797015]]\n"
     ]
    },
    {
     "name": "stderr",
     "output_type": "stream",
     "text": [
      "100%|██████████| 150/150 [00:00<00:00, 580.68it/s]\n"
     ]
    },
    {
     "name": "stdout",
     "output_type": "stream",
     "text": [
      "PEGE Simulation 3, N_gen_ctx=20, d=5\n",
      "B=[[ 0.09365811]\n",
      " [-0.08790616]\n",
      " [ 0.02303313]\n",
      " [-0.52691709]\n",
      " [-0.83983839]]\n"
     ]
    },
    {
     "name": "stderr",
     "output_type": "stream",
     "text": [
      "100%|██████████| 150/150 [00:00<00:00, 585.18it/s]\n"
     ]
    },
    {
     "name": "stdout",
     "output_type": "stream",
     "text": [
      "PEGE Simulation 4, N_gen_ctx=20, d=5\n",
      "B=[[-0.34694543]\n",
      " [-0.12558817]\n",
      " [ 0.81739809]\n",
      " [ 0.26233422]\n",
      " [ 0.3562269 ]]\n"
     ]
    },
    {
     "name": "stderr",
     "output_type": "stream",
     "text": [
      "100%|██████████| 150/150 [00:00<00:00, 580.16it/s]\n"
     ]
    },
    {
     "name": "stdout",
     "output_type": "stream",
     "text": [
      "PEGE Simulation 5, N_gen_ctx=20, d=5\n",
      "B=[[ 0.47803907]\n",
      " [ 0.42652866]\n",
      " [ 0.57264075]\n",
      " [-0.48729098]\n",
      " [-0.15550569]]\n"
     ]
    },
    {
     "name": "stderr",
     "output_type": "stream",
     "text": [
      "100%|██████████| 150/150 [00:00<00:00, 584.27it/s]"
     ]
    },
    {
     "name": "stdout",
     "output_type": "stream",
     "text": [
      "2024-05-24 12:09:41 idx of params chosen: 0\n"
     ]
    },
    {
     "name": "stderr",
     "output_type": "stream",
     "text": [
      "\n"
     ]
    }
   ],
   "source": [
    "input_dict[\"name\"] = \"PEGE\"\n",
    "# input_dict[\"params_set\"] = [15, 20, 25, 30] # tau_1\n",
    "input_dict[\"params_set\"] = [25] # tau_1\n",
    "best_PEGE = eval_multi(input_dict)"
   ]
  },
  {
   "cell_type": "code",
   "execution_count": 4,
   "metadata": {},
   "outputs": [
    {
     "name": "stdout",
     "output_type": "stream",
     "text": [
      "PEGE_oracle Simulation 1, N_gen_ctx=20, d=5\n",
      "B=[[ 0.03215008]\n",
      " [-0.46701509]\n",
      " [-0.0033692 ]\n",
      " [ 0.20271084]\n",
      " [ 0.86009316]]\n"
     ]
    },
    {
     "name": "stderr",
     "output_type": "stream",
     "text": [
      "100%|██████████| 150/150 [00:00<00:00, 800.61it/s]\n"
     ]
    },
    {
     "name": "stdout",
     "output_type": "stream",
     "text": [
      "PEGE_oracle Simulation 2, N_gen_ctx=20, d=5\n",
      "B=[[ 0.57402984]\n",
      " [ 0.27808864]\n",
      " [-0.32234022]\n",
      " [-0.19089515]\n",
      " [-0.67291327]]\n"
     ]
    },
    {
     "name": "stderr",
     "output_type": "stream",
     "text": [
      "100%|██████████| 150/150 [00:00<00:00, 806.28it/s]\n"
     ]
    },
    {
     "name": "stdout",
     "output_type": "stream",
     "text": [
      "PEGE_oracle Simulation 3, N_gen_ctx=20, d=5\n",
      "B=[[ 0.2768432 ]\n",
      " [-0.50882856]\n",
      " [-0.27714216]\n",
      " [-0.00326141]\n",
      " [ 0.76657219]]\n"
     ]
    },
    {
     "name": "stderr",
     "output_type": "stream",
     "text": [
      "100%|██████████| 150/150 [00:00<00:00, 795.80it/s]\n"
     ]
    },
    {
     "name": "stdout",
     "output_type": "stream",
     "text": [
      "PEGE_oracle Simulation 4, N_gen_ctx=20, d=5\n",
      "B=[[0.02920884]\n",
      " [0.44339984]\n",
      " [0.49741209]\n",
      " [0.37949551]\n",
      " [0.64117689]]\n"
     ]
    },
    {
     "name": "stderr",
     "output_type": "stream",
     "text": [
      "100%|██████████| 150/150 [00:00<00:00, 796.04it/s]\n"
     ]
    },
    {
     "name": "stdout",
     "output_type": "stream",
     "text": [
      "PEGE_oracle Simulation 5, N_gen_ctx=20, d=5\n",
      "B=[[ 0.23646447]\n",
      " [-0.67388865]\n",
      " [-0.0557547 ]\n",
      " [-0.38808016]\n",
      " [ 0.57986537]]\n"
     ]
    },
    {
     "name": "stderr",
     "output_type": "stream",
     "text": [
      "100%|██████████| 150/150 [00:00<00:00, 794.48it/s]"
     ]
    },
    {
     "name": "stdout",
     "output_type": "stream",
     "text": [
      "2024-05-24 12:09:41 idx of params chosen: 0\n"
     ]
    },
    {
     "name": "stderr",
     "output_type": "stream",
     "text": [
      "\n"
     ]
    }
   ],
   "source": [
    "input_dict[\"name\"] = \"PEGE_oracle\"\n",
    "# input_dict[\"params_set\"] = [2, 5] # tau_1\n",
    "input_dict[\"params_set\"] = [2] # tau_1\n",
    "best_PEGE_oracle = eval_multi(input_dict)"
   ]
  },
  {
   "cell_type": "code",
   "execution_count": 5,
   "metadata": {},
   "outputs": [
    {
     "name": "stdout",
     "output_type": "stream",
     "text": [
      "PMA Simulation 1, N_gen_ctx=20, d=5\n",
      "2024-05-24 12:09:44 Warning: PMA's expert dist is still uniform. Increase PMA_exr_const or PMA_tau1_const?\n",
      "2024-05-24 12:09:44 PMA's exp prob = 0.09, tau_1 = 29.759999999999998, tau_2 = 5.01\n",
      "B=[[ 0.41710839]\n",
      " [ 0.41061137]\n",
      " [-0.51800154]\n",
      " [ 0.62173092]\n",
      " [ 0.0504377 ]]\n"
     ]
    },
    {
     "name": "stderr",
     "output_type": "stream",
     "text": [
      "  8%|▊         | 12/150 [00:01<00:12, 10.68it/s]"
     ]
    },
    {
     "name": "stdout",
     "output_type": "stream",
     "text": [
      "2024-05-24 12:09:45 Warning: check_alpha_cover fails (covers all experts). Decrease PMA_alpha_const.\n"
     ]
    },
    {
     "name": "stderr",
     "output_type": "stream",
     "text": [
      " 61%|██████    | 91/150 [00:04<00:03, 17.63it/s]"
     ]
    },
    {
     "name": "stdout",
     "output_type": "stream",
     "text": [
      "2024-05-24 12:09:49 Warning: check_alpha_cover fails (covers all experts). Decrease PMA_alpha_const.\n"
     ]
    },
    {
     "name": "stderr",
     "output_type": "stream",
     "text": [
      " 90%|█████████ | 135/150 [00:05<00:00, 42.07it/s]"
     ]
    },
    {
     "name": "stdout",
     "output_type": "stream",
     "text": [
      "2024-05-24 12:09:49 Warning: check_alpha_cover fails (covers all experts). Decrease PMA_alpha_const.\n"
     ]
    },
    {
     "name": "stderr",
     "output_type": "stream",
     "text": [
      "100%|██████████| 150/150 [00:06<00:00, 23.55it/s]\n"
     ]
    },
    {
     "name": "stdout",
     "output_type": "stream",
     "text": [
      "PMA Simulation 2, N_gen_ctx=20, d=5\n",
      "2024-05-24 12:09:52 Warning: PMA's expert dist is still uniform. Increase PMA_exr_const or PMA_tau1_const?\n",
      "2024-05-24 12:09:52 PMA's exp prob = 0.09, tau_1 = 29.759999999999998, tau_2 = 5.01\n",
      "B=[[-0.68218927]\n",
      " [ 0.25577791]\n",
      " [ 0.44425517]\n",
      " [ 0.47859186]\n",
      " [-0.20683963]]\n"
     ]
    },
    {
     "name": "stderr",
     "output_type": "stream",
     "text": [
      " 35%|███▍      | 52/150 [00:01<00:03, 30.49it/s]"
     ]
    },
    {
     "name": "stdout",
     "output_type": "stream",
     "text": [
      "2024-05-24 12:09:55 Warning: check_alpha_cover fails (covers all experts). Decrease PMA_alpha_const.\n"
     ]
    },
    {
     "name": "stderr",
     "output_type": "stream",
     "text": [
      " 47%|████▋     | 70/150 [00:04<00:06, 12.03it/s]"
     ]
    },
    {
     "name": "stdout",
     "output_type": "stream",
     "text": [
      "2024-05-24 12:09:56 Warning: check_alpha_cover fails (covers all experts). Decrease PMA_alpha_const.\n"
     ]
    },
    {
     "name": "stderr",
     "output_type": "stream",
     "text": [
      " 59%|█████▉    | 89/150 [00:05<00:05, 11.93it/s]"
     ]
    },
    {
     "name": "stdout",
     "output_type": "stream",
     "text": [
      "2024-05-24 12:09:58 Warning: check_alpha_cover fails (covers all experts). Decrease PMA_alpha_const.\n"
     ]
    },
    {
     "name": "stderr",
     "output_type": "stream",
     "text": [
      "100%|██████████| 150/150 [00:08<00:00, 18.70it/s]\n"
     ]
    },
    {
     "name": "stdout",
     "output_type": "stream",
     "text": [
      "PMA Simulation 3, N_gen_ctx=20, d=5\n",
      "2024-05-24 12:10:02 Warning: PMA's expert dist is still uniform. Increase PMA_exr_const or PMA_tau1_const?\n",
      "2024-05-24 12:10:02 PMA's exp prob = 0.09, tau_1 = 29.759999999999998, tau_2 = 5.01\n",
      "B=[[0.49691023]\n",
      " [0.32299105]\n",
      " [0.2198936 ]\n",
      " [0.54161919]\n",
      " [0.55412315]]\n"
     ]
    },
    {
     "name": "stderr",
     "output_type": "stream",
     "text": [
      "  0%|          | 0/150 [00:00<?, ?it/s]"
     ]
    },
    {
     "name": "stdout",
     "output_type": "stream",
     "text": [
      "2024-05-24 12:10:02 Warning: check_alpha_cover fails (covers all experts). Decrease PMA_alpha_const.\n",
      "2024-05-24 12:10:02 Warning: PMA's expert dist is still uniform. Increase PMA_exr_const or PMA_tau1_const?\n"
     ]
    },
    {
     "name": "stderr",
     "output_type": "stream",
     "text": [
      "  1%|          | 1/150 [00:00<01:01,  2.42it/s]"
     ]
    },
    {
     "name": "stdout",
     "output_type": "stream",
     "text": [
      "2024-05-24 12:10:02 Warning: PMA's expert dist is still uniform. Increase PMA_exr_const or PMA_tau1_const?\n",
      "2024-05-24 12:10:02 Warning: PMA's expert dist is still uniform. Increase PMA_exr_const or PMA_tau1_const?\n",
      "2024-05-24 12:10:02 Warning: PMA's expert dist is still uniform. Increase PMA_exr_const or PMA_tau1_const?\n",
      "2024-05-24 12:10:02 Warning: PMA's expert dist is still uniform. Increase PMA_exr_const or PMA_tau1_const?\n",
      "2024-05-24 12:10:02 Warning: PMA's expert dist is still uniform. Increase PMA_exr_const or PMA_tau1_const?\n",
      "2024-05-24 12:10:02 Warning: PMA's expert dist is still uniform. Increase PMA_exr_const or PMA_tau1_const?\n",
      "2024-05-24 12:10:02 Warning: PMA's expert dist is still uniform. Increase PMA_exr_const or PMA_tau1_const?\n",
      "2024-05-24 12:10:02 Warning: PMA's expert dist is still uniform. Increase PMA_exr_const or PMA_tau1_const?\n"
     ]
    },
    {
     "name": "stderr",
     "output_type": "stream",
     "text": [
      "100%|██████████| 150/150 [00:05<00:00, 26.88it/s]\n"
     ]
    },
    {
     "name": "stdout",
     "output_type": "stream",
     "text": [
      "PMA Simulation 4, N_gen_ctx=20, d=5\n",
      "2024-05-24 12:10:10 Warning: PMA's expert dist is still uniform. Increase PMA_exr_const or PMA_tau1_const?\n",
      "2024-05-24 12:10:10 PMA's exp prob = 0.09, tau_1 = 29.759999999999998, tau_2 = 5.01\n",
      "B=[[0.3804353 ]\n",
      " [0.05669956]\n",
      " [0.59315007]\n",
      " [0.33202495]\n",
      " [0.62448905]]\n"
     ]
    },
    {
     "name": "stderr",
     "output_type": "stream",
     "text": [
      " 11%|█▏        | 17/150 [00:00<00:03, 42.33it/s]"
     ]
    },
    {
     "name": "stdout",
     "output_type": "stream",
     "text": [
      "2024-05-24 12:10:10 Warning: check_alpha_cover fails (covers all experts). Decrease PMA_alpha_const.\n"
     ]
    },
    {
     "name": "stderr",
     "output_type": "stream",
     "text": [
      " 30%|███       | 45/150 [00:01<00:04, 21.34it/s]"
     ]
    },
    {
     "name": "stdout",
     "output_type": "stream",
     "text": [
      "2024-05-24 12:10:12 Warning: check_alpha_cover fails (covers all experts). Decrease PMA_alpha_const.\n"
     ]
    },
    {
     "name": "stderr",
     "output_type": "stream",
     "text": [
      " 39%|███▉      | 59/150 [00:02<00:03, 23.86it/s]"
     ]
    },
    {
     "name": "stdout",
     "output_type": "stream",
     "text": [
      "2024-05-24 12:10:12 Warning: check_alpha_cover fails (covers all experts). Decrease PMA_alpha_const.\n"
     ]
    },
    {
     "name": "stderr",
     "output_type": "stream",
     "text": [
      " 88%|████████▊ | 132/150 [00:05<00:00, 25.73it/s]"
     ]
    },
    {
     "name": "stdout",
     "output_type": "stream",
     "text": [
      "2024-05-24 12:10:15 Warning: check_alpha_cover fails (covers all experts). Decrease PMA_alpha_const.\n"
     ]
    },
    {
     "name": "stderr",
     "output_type": "stream",
     "text": [
      "100%|██████████| 150/150 [00:05<00:00, 25.43it/s]"
     ]
    },
    {
     "name": "stdout",
     "output_type": "stream",
     "text": [
      "PMA Simulation 5, N_gen_ctx=20, d=5\n"
     ]
    },
    {
     "name": "stderr",
     "output_type": "stream",
     "text": [
      "\n"
     ]
    },
    {
     "name": "stdout",
     "output_type": "stream",
     "text": [
      "2024-05-24 12:10:17 Warning: PMA's expert dist is still uniform. Increase PMA_exr_const or PMA_tau1_const?\n",
      "2024-05-24 12:10:17 PMA's exp prob = 0.09, tau_1 = 29.759999999999998, tau_2 = 5.01\n",
      "B=[[-0.28730568]\n",
      " [ 0.52168785]\n",
      " [ 0.43321756]\n",
      " [ 0.64754029]\n",
      " [ 0.19573285]]\n"
     ]
    },
    {
     "name": "stderr",
     "output_type": "stream",
     "text": [
      "  1%|          | 1/150 [00:00<01:01,  2.42it/s]"
     ]
    },
    {
     "name": "stdout",
     "output_type": "stream",
     "text": [
      "2024-05-24 12:10:18 Warning: check_alpha_cover fails (covers all experts). Decrease PMA_alpha_const.\n"
     ]
    },
    {
     "name": "stderr",
     "output_type": "stream",
     "text": [
      "  5%|▍         | 7/150 [00:00<00:15,  9.15it/s]"
     ]
    },
    {
     "name": "stdout",
     "output_type": "stream",
     "text": [
      "2024-05-24 12:10:19 Warning: check_alpha_cover fails (covers all experts). Decrease PMA_alpha_const.\n"
     ]
    },
    {
     "name": "stderr",
     "output_type": "stream",
     "text": [
      " 37%|███▋      | 55/150 [00:02<00:02, 34.85it/s]"
     ]
    },
    {
     "name": "stdout",
     "output_type": "stream",
     "text": [
      "2024-05-24 12:10:20 Warning: check_alpha_cover fails (covers all experts). Decrease PMA_alpha_const.\n"
     ]
    },
    {
     "name": "stderr",
     "output_type": "stream",
     "text": [
      "100%|██████████| 150/150 [00:03<00:00, 43.53it/s]"
     ]
    },
    {
     "name": "stdout",
     "output_type": "stream",
     "text": [
      "2024-05-24 12:10:21 idx of params chosen: 0\n"
     ]
    },
    {
     "name": "stderr",
     "output_type": "stream",
     "text": [
      "\n"
     ]
    }
   ],
   "source": [
    "input_dict[\"name\"] = \"PMA\"\n",
    "input_dict[\"params_set\"] = [None] # Placeholder\n",
    "input_dict[\"PMA_exr_const\"] = 0.45 # (0.45) p=0.1 is good for n_task=500, d=10, m=3, T=500. 0.23 for n_task=300\n",
    "input_dict[\"PMA_tau1_const\"] = 0.75 #Large enough to have a good estimate of theta. tau_1 = 150 is good for d=10\n",
    "input_dict[\"PMA_tau2_const\"] = 0.5 #tau_2 = 20 is ok for m = 3\n",
    "input_dict[\"PMA_alpha_const\"] = 0.3 #0.45 for n_task=500. Small enough to filter wrong experts. Not too small to exclude the true expert\n",
    "input_dict[\"PMA_no_oracle\"] = False\n",
    "best_PMA = eval_multi(input_dict)"
   ]
  },
  {
   "cell_type": "code",
   "execution_count": 6,
   "metadata": {},
   "outputs": [
    {
     "name": "stdout",
     "output_type": "stream",
     "text": [
      "PMA Simulation 1, N_gen_ctx=20, d=5\n",
      "2024-05-24 12:10:23 Warning: PMA's expert dist is still uniform. Increase PMA_exr_const or PMA_tau1_const?\n",
      "2024-05-24 12:10:23 PMA's exp prob = 0.09, tau_1 = 29.759999999999998, tau_2 = 5.01\n",
      "B=[[ 0.22770531]\n",
      " [-0.30840856]\n",
      " [-0.8418616 ]\n",
      " [ 0.20110419]\n",
      " [ 0.32227412]]\n"
     ]
    },
    {
     "name": "stderr",
     "output_type": "stream",
     "text": [
      "100%|██████████| 150/150 [00:05<00:00, 29.25it/s]\n"
     ]
    },
    {
     "name": "stdout",
     "output_type": "stream",
     "text": [
      "PMA Simulation 2, N_gen_ctx=20, d=5\n",
      "2024-05-24 12:10:30 Warning: PMA's expert dist is still uniform. Increase PMA_exr_const or PMA_tau1_const?\n",
      "2024-05-24 12:10:30 PMA's exp prob = 0.09, tau_1 = 29.759999999999998, tau_2 = 5.01\n",
      "B=[[ 0.18091842]\n",
      " [-0.86640448]\n",
      " [ 0.28783353]\n",
      " [ 0.08818421]\n",
      " [-0.35494677]]\n"
     ]
    },
    {
     "name": "stderr",
     "output_type": "stream",
     "text": [
      "  3%|▎         | 4/150 [00:00<00:29,  4.89it/s]"
     ]
    },
    {
     "name": "stdout",
     "output_type": "stream",
     "text": [
      "2024-05-24 12:10:31 Warning: check_alpha_cover fails (covers all experts). Decrease PMA_alpha_const.\n"
     ]
    },
    {
     "name": "stderr",
     "output_type": "stream",
     "text": [
      " 32%|███▏      | 48/150 [00:02<00:05, 18.16it/s]"
     ]
    },
    {
     "name": "stdout",
     "output_type": "stream",
     "text": [
      "2024-05-24 12:10:33 Warning: check_alpha_cover fails (covers all experts). Decrease PMA_alpha_const.\n"
     ]
    },
    {
     "name": "stderr",
     "output_type": "stream",
     "text": [
      " 65%|██████▌   | 98/150 [00:05<00:01, 28.65it/s]"
     ]
    },
    {
     "name": "stdout",
     "output_type": "stream",
     "text": [
      "2024-05-24 12:10:36 Warning: check_alpha_cover fails (covers all experts). Decrease PMA_alpha_const.\n"
     ]
    },
    {
     "name": "stderr",
     "output_type": "stream",
     "text": [
      "100%|██████████| 150/150 [00:07<00:00, 19.79it/s]\n"
     ]
    },
    {
     "name": "stdout",
     "output_type": "stream",
     "text": [
      "PMA Simulation 3, N_gen_ctx=20, d=5\n",
      "2024-05-24 12:10:40 Warning: PMA's expert dist is still uniform. Increase PMA_exr_const or PMA_tau1_const?\n",
      "2024-05-24 12:10:40 PMA's exp prob = 0.09, tau_1 = 29.759999999999998, tau_2 = 5.01\n",
      "B=[[-0.196085  ]\n",
      " [ 0.28136174]\n",
      " [-0.92617893]\n",
      " [-0.06183901]\n",
      " [ 0.14406514]]\n"
     ]
    },
    {
     "name": "stderr",
     "output_type": "stream",
     "text": [
      " 85%|████████▌ | 128/150 [00:07<00:01, 16.39it/s]"
     ]
    },
    {
     "name": "stdout",
     "output_type": "stream",
     "text": [
      "2024-05-24 12:10:48 Warning: check_alpha_cover fails (covers all experts). Decrease PMA_alpha_const.\n"
     ]
    },
    {
     "name": "stderr",
     "output_type": "stream",
     "text": [
      "100%|██████████| 150/150 [00:08<00:00, 18.65it/s]"
     ]
    },
    {
     "name": "stdout",
     "output_type": "stream",
     "text": [
      "PMA Simulation 4, N_gen_ctx=20, d=5\n"
     ]
    },
    {
     "name": "stderr",
     "output_type": "stream",
     "text": [
      "\n"
     ]
    },
    {
     "name": "stdout",
     "output_type": "stream",
     "text": [
      "2024-05-24 12:10:50 Warning: PMA's expert dist is still uniform. Increase PMA_exr_const or PMA_tau1_const?\n",
      "2024-05-24 12:10:50 PMA's exp prob = 0.09, tau_1 = 29.759999999999998, tau_2 = 5.01\n",
      "B=[[ 0.72098901]\n",
      " [-0.4094708 ]\n",
      " [-0.16263299]\n",
      " [ 0.02670548]\n",
      " [-0.53417772]]\n"
     ]
    },
    {
     "name": "stderr",
     "output_type": "stream",
     "text": [
      " 59%|█████▊    | 88/150 [00:03<00:01, 32.47it/s]"
     ]
    },
    {
     "name": "stdout",
     "output_type": "stream",
     "text": [
      "2024-05-24 12:10:53 Warning: check_alpha_cover fails (covers all experts). Decrease PMA_alpha_const.\n"
     ]
    },
    {
     "name": "stderr",
     "output_type": "stream",
     "text": [
      "100%|██████████| 150/150 [00:05<00:00, 27.11it/s]\n"
     ]
    },
    {
     "name": "stdout",
     "output_type": "stream",
     "text": [
      "PMA Simulation 5, N_gen_ctx=20, d=5\n"
     ]
    }
   ],
   "source": [
    "input_dict[\"name\"] = \"PMA\"\n",
    "input_dict[\"PMA_no_oracle\"] = True\n",
    "best_PMA_no_oracle = eval_multi(input_dict)"
   ]
  },
  {
   "cell_type": "code",
   "execution_count": null,
   "metadata": {},
   "outputs": [],
   "source": [
    "# input_dict[\"name\"] = \"PMA\"\n",
    "# input_dict[\"PMA_p_decay_rate\"] = 0.000 # 0.01\n",
    "# input_dict[\"PMA_no_oracle\"] = False\n",
    "# # input_dict[\"PMA_n_expert\"] = 20\n",
    "# # input_dict[\"PMA_alpha_const\"] = 0.5\n",
    "# best_PMA_decay = eval_multi(input_dict)\n",
    "input_dict[\"name\"] = \"PMA\"\n",
    "input_dict[\"PMA_stop_exr\"] = 120\n",
    "input_dict[\"PMA_no_oracle\"] = False\n",
    "best_PMA_stop_exr = eval_multi(input_dict)"
   ]
  },
  {
   "cell_type": "code",
   "execution_count": null,
   "metadata": {},
   "outputs": [],
   "source": [
    "input_dict[\"name\"] = \"SeqRepL\"\n",
    "input_dict[\"SeqRepL_exr_const\"] = 0.1 # 0.004\n",
    "input_dict[\"SeqRepL_tau1_const\"] = 2.5 # 0.4\n",
    "input_dict[\"SeqRepL_tau2_const\"] = 0.5 # 0.5\n",
    "best_SeqRepL = eval_multi(input_dict)"
   ]
  },
  {
   "cell_type": "code",
   "execution_count": null,
   "metadata": {},
   "outputs": [],
   "source": [
    "mean_PEGE = np.mean(best_PEGE['regrets'], axis=0)\n",
    "std_PEGE = np.std(best_PEGE['regrets'], axis=0)\n",
    "mean_PEGE_oracle = np.mean(best_PEGE_oracle['regrets'], axis=0)\n",
    "std_PEGE_oracle = np.std(best_PEGE_oracle['regrets'], axis=0)\n",
    "mean_PMA = np.mean(best_PMA['regrets'], axis=0)\n",
    "std_PMA = np.std(best_PMA['regrets'], axis=0)\n",
    "# mean_PMA_decay = np.mean(best_PMA_decay['regrets'], axis=0)\n",
    "# std_PMA_decay = np.std(best_PMA_decay['regrets'], axis=0)\n",
    "mean_PMA_stop_exr = np.mean(best_PMA_stop_exr['regrets'], axis=0)\n",
    "std_PMA_stop_exr = np.std(best_PMA_stop_exr['regrets'], axis=0)\n",
    "mean_PMA_no_oracle = np.mean(best_PMA_no_oracle['regrets'], axis=0)\n",
    "std_PMA_no_oracle = np.std(best_PMA_no_oracle['regrets'], axis=0)\n",
    "mean_SeqRepL = np.mean(best_SeqRepL['regrets'], axis=0)\n",
    "std_SeqRepL = np.std(best_SeqRepL['regrets'], axis=0)\n",
    "X = np.arange(1,n_task+1)\n",
    "plt.plot(X, mean_SeqRepL, '-', label='SeqRepL')\n",
    "plt.fill_between(X, mean_SeqRepL-std_SeqRepL, mean_SeqRepL+std_SeqRepL, alpha=0.5)\n",
    "plt.plot(X, mean_PMA_stop_exr, '-', label='PMA_stop_exr')\n",
    "plt.fill_between(X, mean_PMA_stop_exr-std_PMA_stop_exr, mean_PMA_stop_exr+std_PMA_stop_exr, alpha=0.5)\n",
    "plt.plot(X, mean_PMA_no_oracle, '-', label='PMA_no_oracle')\n",
    "plt.fill_between(X, mean_PMA_no_oracle-std_PMA_no_oracle, mean_PMA_no_oracle+std_PMA_no_oracle, alpha=0.5)\n",
    "# plt.plot(X, mean_PMA_decay, '-', label='PMA_decay')\n",
    "# plt.fill_between(X, mean_PMA_decay-std_PMA_decay, mean_PMA_decay+std_PMA_decay, alpha=0.5)\n",
    "plt.plot(X, mean_PMA, '-', label='PMA')\n",
    "plt.fill_between(X, mean_PMA-std_PMA, mean_PMA+std_PMA, alpha=0.5)\n",
    "plt.plot(X, mean_PEGE, '-', label='PEGE')\n",
    "plt.fill_between(X, mean_PEGE-std_PEGE, mean_PEGE+std_PEGE, alpha=0.5)\n",
    "plt.plot(X, mean_PEGE_oracle, '-', label='PEGE_oracle')\n",
    "plt.fill_between(X, mean_PEGE_oracle-std_PEGE_oracle, mean_PEGE_oracle+std_PEGE_oracle, alpha=0.5)\n",
    "plt.xlabel('# of task')\n",
    "plt.ylabel('Cum Regret')\n",
    "plt.legend()\n",
    "plt.show()\n",
    "plt.close()"
   ]
  },
  {
   "cell_type": "code",
   "execution_count": null,
   "metadata": {},
   "outputs": [],
   "source": [
    "mean_PMA = np.mean(best_PMA['B_hat_err'], axis=0)\n",
    "std_PMA = np.std(best_PMA['B_hat_err'], axis=0)\n",
    "mean_SeqRepL = np.mean(best_SeqRepL['B_hat_err'], axis=0)\n",
    "std_SeqRepL = np.std(best_SeqRepL['B_hat_err'], axis=0)\n",
    "mean_PMA_stop_exr = np.mean(best_PMA_stop_exr['B_hat_err'], axis=0)\n",
    "std_PMA_stop_exr = np.std(best_PMA_stop_exr['B_hat_err'], axis=0)\n",
    "mean_PMA_no_oracle = np.mean(best_PMA_no_oracle['B_hat_err'], axis=0)\n",
    "std_PMA_no_oracle = np.std(best_PMA_no_oracle['B_hat_err'], axis=0)\n",
    "plt.plot(X, mean_SeqRepL, '-', label='SeqRepL')\n",
    "plt.fill_between(X, mean_SeqRepL-std_SeqRepL, mean_SeqRepL+std_SeqRepL, alpha=0.5)\n",
    "plt.plot(X, mean_PMA_stop_exr, '-', label='PMA_stop_exr')\n",
    "plt.fill_between(X, mean_PMA_stop_exr-std_PMA_stop_exr, mean_PMA_stop_exr+std_PMA_stop_exr, alpha=0.5)\n",
    "plt.plot(X, mean_PMA_no_oracle, '-', label='PMA_no_oracle')\n",
    "plt.fill_between(X, mean_PMA_no_oracle-std_PMA_no_oracle, mean_PMA_no_oracle+std_PMA_no_oracle, alpha=0.5)\n",
    "plt.plot(X, mean_PMA, '-', label='PMA')\n",
    "plt.fill_between(X, mean_PMA-std_PMA, mean_PMA+std_PMA, alpha=0.5)\n",
    "plt.xlabel('# of task')\n",
    "plt.ylabel('||B_{hat, perp}^T theta||_F')\n",
    "plt.legend()\n",
    "plt.show()\n",
    "plt.close()"
   ]
  },
  {
   "cell_type": "code",
   "execution_count": null,
   "metadata": {},
   "outputs": [],
   "source": [
    "from scipy.interpolate import Rbf\n",
    "\n",
    "X = np.arange(1,n_task+1)\n",
    "rbf = Rbf(X, mean_PMA_stop_exr, function = 'multiquadric', smooth = 500)\n",
    "y_PMA_stop_exr_rbf = rbf(X)\n",
    "rbf = Rbf(X, mean_PMA_no_oracle, function = 'multiquadric', smooth = 500)\n",
    "y_PMA_no_oracle_rbf = rbf(X)\n",
    "rbf = Rbf(X, mean_PMA, function = 'multiquadric', smooth = 500)\n",
    "y_PMA_rbf = rbf(X)\n",
    "rbf = Rbf(X, mean_SeqRepL, function = 'multiquadric', smooth = 500)\n",
    "y_SeqRepL_rbf = rbf(X)\n",
    "\n",
    "plt.plot(X, y_SeqRepL_rbf, '-', label='SeqRepL')\n",
    "plt.fill_between(X, y_SeqRepL_rbf-std_SeqRepL, y_SeqRepL_rbf+std_SeqRepL, alpha=0.5)\n",
    "plt.plot(X, y_PMA_stop_exr_rbf, '-', label='PMA_stop_exr')\n",
    "plt.fill_between(X, y_PMA_rbf-std_PMA_stop_exr, y_PMA_rbf+std_PMA_stop_exr, alpha=0.5)\n",
    "plt.plot(X, y_PMA_no_oracle_rbf, '-', label='PMA_no_oracle')\n",
    "plt.fill_between(X, y_PMA_no_oracle_rbf-std_PMA_no_oracle, y_PMA_no_oracle_rbf+std_PMA_no_oracle, alpha=0.5)\n",
    "plt.plot(X, y_PMA_rbf, '-', label='PMA')\n",
    "plt.fill_between(X, y_PMA_rbf-std_PMA, y_PMA_rbf+std_PMA, alpha=0.5)\n",
    "plt.xlabel('# of task')\n",
    "plt.ylabel('||B_{hat, perp}^T theta||_F')\n",
    "\n",
    "plt.legend()\n",
    "plt.show()"
   ]
  },
  {
   "cell_type": "code",
   "execution_count": null,
   "metadata": {},
   "outputs": [],
   "source": [
    "# def round(X, precision = .03):\n",
    "#     return np.round(np.array(X)/precision)*precision\n",
    "# round(mean_PMA)"
   ]
  },
  {
   "cell_type": "code",
   "execution_count": null,
   "metadata": {},
   "outputs": [],
   "source": [
    "# from scipy.interpolate import Rbf\n",
    "\n",
    "# X = np.arange(1,n_task+1)\n",
    "# rbf = Rbf(X, mean_UCB, function = 'multiquadric', smooth = 500)\n",
    "# y_UCB_rbf = rbf(X)\n",
    "# rbf = Rbf(X, mean_PMA, function = 'multiquadric', smooth = 500)\n",
    "# y_PMA_rbf = rbf(X)\n",
    "\n",
    "# plt.plot(X, y_PMA_rbf, '-', label='PMA')\n",
    "# plt.fill_between(X, y_PMA_rbf-std_PMA, y_PMA_rbf+std_PMA, alpha=0.5)\n",
    "# plt.plot(X, y_UCB_rbf, '-', label='UCB')\n",
    "# plt.fill_between(X, y_UCB_rbf-std_UCB, y_UCB_rbf+std_UCB, alpha=0.5)\n",
    "# plt.xlabel('# of task')\n",
    "# plt.ylabel('Cum Avg Regret')\n",
    "\n",
    "# plt.legend()\n",
    "# plt.show()"
   ]
  },
  {
   "cell_type": "code",
   "execution_count": null,
   "metadata": {},
   "outputs": [],
   "source": [
    "# input_dict[\"name\"] = \"TS\"\n",
    "# input_dict[\"params_set\"] = v_set\n",
    "# if is_multi:\n",
    "#     best_TS = eval_multi(input_dict)\n",
    "# else:\n",
    "#     best_TS = eval(input_dict)\n",
    "\n",
    "# input_dict[\"name\"] = \"PEGE\"\n",
    "# input_dict[\"params_set\"] = tau_1_PEGE_set\n",
    "# if is_multi:\n",
    "#     best_PEGE = eval_multi(input_dict)\n",
    "# else:\n",
    "#     best_PEGE = eval(input_dict)\n",
    "\n",
    "# input_dict[\"name\"] = \"PHE\"\n",
    "# input_dict[\"params_set\"] = alpha_PHE_set\n",
    "# if is_multi:\n",
    "#     best_PHE = eval_multi(input_dict)\n",
    "# else:\n",
    "#     best_PHE = eval(input_dict)"
   ]
  },
  {
   "cell_type": "code",
   "execution_count": null,
   "metadata": {},
   "outputs": [],
   "source": [
    "# input_dict[\"n_sim\"] = 3\n",
    "\n",
    "# input_dict[\"name\"] = \"UCB\"\n",
    "# input_dict[\"params_set\"] = alpha_set\n",
    "# best_UCB = eval(input_dict)\n",
    "\n",
    "# input_dict[\"name\"] = \"TS\"\n",
    "# input_dict[\"params_set\"] = v_set\n",
    "# best_TS = eval(input_dict)\n",
    "\n",
    "# mean_UCB = np.mean(best_UCB['regrets'], axis=0)\n",
    "# std_UCB = np.std(best_UCB['regrets'], axis=0)\n",
    "# mean_TS = np.mean(best_TS['regrets'], axis=0)\n",
    "# std_TS = np.std(best_TS['regrets'], axis=0)\n",
    "# X = np.arange(1,T+1)\n",
    "# plt.plot(X, mean_TS, '-', label='TS')\n",
    "# plt.fill_between(X, mean_TS-std_TS, mean_TS+std_TS, alpha=0.5)\n",
    "# plt.plot(X, mean_UCB, '-', label='UCB')\n",
    "# plt.fill_between(X, mean_UCB-std_UCB, mean_UCB+std_UCB, alpha=0.5)\n",
    "# plt.xlabel('# of step')\n",
    "# plt.ylabel('Cum Regret')\n",
    "# plt.legend()\n",
    "# plt.show()\n",
    "# plt.close()"
   ]
  }
 ],
 "metadata": {
  "kernelspec": {
   "display_name": "Python 3 (ipykernel)",
   "language": "python",
   "name": "python3"
  },
  "language_info": {
   "codemirror_mode": {
    "name": "ipython",
    "version": 3
   },
   "file_extension": ".py",
   "mimetype": "text/x-python",
   "name": "python",
   "nbconvert_exporter": "python",
   "pygments_lexer": "ipython3",
   "version": "3.12.2"
  }
 },
 "nbformat": 4,
 "nbformat_minor": 4
}
