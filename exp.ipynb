{
 "cells": [
  {
   "cell_type": "code",
   "execution_count": 1,
   "metadata": {},
   "outputs": [],
   "source": [
    "import numpy as np\n",
    "import matplotlib.pyplot as plt\n",
    "\n",
    "from evaluation import eval_multi, MODE_ADVERSARY, MODE_RANDOM, MODE_ADV_TASK_DIVERSITY\n",
    "%load_ext autoreload\n",
    "%autoreload 2"
   ]
  },
  {
   "cell_type": "code",
   "execution_count": 2,
   "metadata": {},
   "outputs": [],
   "source": [
    "d = 5\n",
    "n_gen_context = 20 # Sample from the action set\n",
    "T = 1000 # Timesteps\n",
    "n_sim = 3 # Number of Simulations\n",
    "m = 3\n",
    "n_task = 5\n",
    "assert m<=d, \"m >= d\"\n",
    "assert T>=d**2, \"T < d**2\"\n",
    "alpha_set = [1.0] # Bonus for UCB\n",
    "v_set = [1.0] # Bonus for TS\n",
    "alpha_PHE_set = [1.0] # Bonus for PHE\n",
    "tau_1_PEGE_set = [T//2] # EXR length for PEGE\n",
    "is_multi = False\n",
    "adv_const = 1 # scaling factor for adversary task generation\n",
    "PMA_const = 1 # scaling factor for exploration probability\n",
    "PMA_lr_const = 1 # scaling factor for the learning rate\n",
    "PMA_n_expert = 20 # Expert set size for PMA\n",
    "input_dict = {\n",
    "    \"d\":d,\n",
    "    \"n_gen_context\":n_gen_context,\n",
    "    \"T\":T,\n",
    "    \"n_sim\":n_sim,\n",
    "    \"rho\":0.5,\n",
    "    \"noise_std\":1,\n",
    "    \"seed\":None,\n",
    "    \"output\":True,\n",
    "    \"params_set\":alpha_set,\n",
    "    \"m\":m,\n",
    "    \"n_task\":n_task,\n",
    "    \"adv_const\":adv_const,\n",
    "    \"PMA_const\":PMA_const,\n",
    "    \"PMA_lr_const\":PMA_lr_const,\n",
    "    \"mode\":MODE_ADV_TASK_DIVERSITY,\n",
    "    \"PMA_n_expert\":PMA_n_expert,\n",
    "}"
   ]
  },
  {
   "cell_type": "code",
   "execution_count": 5,
   "metadata": {},
   "outputs": [
    {
     "name": "stdout",
     "output_type": "stream",
     "text": [
      "UCB Simulation 1, N_gen_ctx=20, d=5, alpha=1.000\n"
     ]
    },
    {
     "name": "stderr",
     "output_type": "stream",
     "text": [
      "  0%|          | 0/5 [00:00<?, ?it/s]"
     ]
    },
    {
     "name": "stdout",
     "output_type": "stream",
     "text": [
      "> \u001b[0;32m/home/thangduong/Serena/evaluation.py\u001b[0m(184)\u001b[0;36mgen_params\u001b[0;34m()\u001b[0m\n",
      "\u001b[0;32m    182 \u001b[0;31m            \u001b[0mn_revealed\u001b[0m \u001b[0;34m=\u001b[0m \u001b[0mmin\u001b[0m\u001b[0;34m(\u001b[0m\u001b[0mn_revealed\u001b[0m\u001b[0;34m+\u001b[0m\u001b[0;36m1\u001b[0m\u001b[0;34m,\u001b[0m\u001b[0mm\u001b[0m\u001b[0;34m)\u001b[0m\u001b[0;34m\u001b[0m\u001b[0;34m\u001b[0m\u001b[0m\n",
      "\u001b[0m\u001b[0;32m    183 \u001b[0;31m        \u001b[0;32mimport\u001b[0m \u001b[0mpdb\u001b[0m\u001b[0;34m;\u001b[0m \u001b[0mpdb\u001b[0m\u001b[0;34m.\u001b[0m\u001b[0mset_trace\u001b[0m\u001b[0;34m(\u001b[0m\u001b[0;34m)\u001b[0m\u001b[0;34m\u001b[0m\u001b[0;34m\u001b[0m\u001b[0m\n",
      "\u001b[0m\u001b[0;32m--> 184 \u001b[0;31m        \u001b[0mlow_rank_B\u001b[0m \u001b[0;34m=\u001b[0m \u001b[0mnp\u001b[0m\u001b[0;34m.\u001b[0m\u001b[0mcopy\u001b[0m\u001b[0;34m(\u001b[0m\u001b[0mB\u001b[0m\u001b[0;34m)\u001b[0m\u001b[0;34m\u001b[0m\u001b[0;34m\u001b[0m\u001b[0m\n",
      "\u001b[0m\u001b[0;32m    185 \u001b[0;31m        \u001b[0mlow_rank_B\u001b[0m\u001b[0;34m[\u001b[0m\u001b[0;34m:\u001b[0m\u001b[0;34m,\u001b[0m \u001b[0mn_revealed\u001b[0m\u001b[0;34m:\u001b[0m\u001b[0;34m]\u001b[0m \u001b[0;34m=\u001b[0m \u001b[0;36m0\u001b[0m\u001b[0;34m\u001b[0m\u001b[0;34m\u001b[0m\u001b[0m\n",
      "\u001b[0m\u001b[0;32m    186 \u001b[0;31m        \u001b[0mtheta\u001b[0m \u001b[0;34m=\u001b[0m \u001b[0m_gen_params_from_B\u001b[0m\u001b[0;34m(\u001b[0m\u001b[0mlow_rank_B\u001b[0m\u001b[0;34m,\u001b[0m \u001b[0mm\u001b[0m\u001b[0;34m)\u001b[0m\u001b[0;34m\u001b[0m\u001b[0;34m\u001b[0m\u001b[0m\n",
      "\u001b[0m\n",
      "1\n",
      "1\n",
      "1\n",
      "1\n",
      "1\n",
      "1\n",
      "1\n",
      "1\n",
      "1\n",
      "1\n",
      "2024-05-24 23:53:33 Adversary reveal prob: q=1, n_revealed=1/3, theta=[-0.19534908  0.5592406   0.52847115 -0.08410052  0.20759694]\n"
     ]
    },
    {
     "name": "stderr",
     "output_type": "stream",
     "text": [
      " 20%|██        | 1/5 [00:56<03:45, 56.33s/it]"
     ]
    },
    {
     "name": "stdout",
     "output_type": "stream",
     "text": [
      "> \u001b[0;32m/home/thangduong/Serena/evaluation.py\u001b[0m(184)\u001b[0;36mgen_params\u001b[0;34m()\u001b[0m\n",
      "\u001b[0;32m    182 \u001b[0;31m            \u001b[0mn_revealed\u001b[0m \u001b[0;34m=\u001b[0m \u001b[0mmin\u001b[0m\u001b[0;34m(\u001b[0m\u001b[0mn_revealed\u001b[0m\u001b[0;34m+\u001b[0m\u001b[0;36m1\u001b[0m\u001b[0;34m,\u001b[0m\u001b[0mm\u001b[0m\u001b[0;34m)\u001b[0m\u001b[0;34m\u001b[0m\u001b[0;34m\u001b[0m\u001b[0m\n",
      "\u001b[0m\u001b[0;32m    183 \u001b[0;31m        \u001b[0;32mimport\u001b[0m \u001b[0mpdb\u001b[0m\u001b[0;34m;\u001b[0m \u001b[0mpdb\u001b[0m\u001b[0;34m.\u001b[0m\u001b[0mset_trace\u001b[0m\u001b[0;34m(\u001b[0m\u001b[0;34m)\u001b[0m\u001b[0;34m\u001b[0m\u001b[0;34m\u001b[0m\u001b[0m\n",
      "\u001b[0m\u001b[0;32m--> 184 \u001b[0;31m        \u001b[0mlow_rank_B\u001b[0m \u001b[0;34m=\u001b[0m \u001b[0mnp\u001b[0m\u001b[0;34m.\u001b[0m\u001b[0mcopy\u001b[0m\u001b[0;34m(\u001b[0m\u001b[0mB\u001b[0m\u001b[0;34m)\u001b[0m\u001b[0;34m\u001b[0m\u001b[0;34m\u001b[0m\u001b[0m\n",
      "\u001b[0m\u001b[0;32m    185 \u001b[0;31m        \u001b[0mlow_rank_B\u001b[0m\u001b[0;34m[\u001b[0m\u001b[0;34m:\u001b[0m\u001b[0;34m,\u001b[0m \u001b[0mn_revealed\u001b[0m\u001b[0;34m:\u001b[0m\u001b[0;34m]\u001b[0m \u001b[0;34m=\u001b[0m \u001b[0;36m0\u001b[0m\u001b[0;34m\u001b[0m\u001b[0;34m\u001b[0m\u001b[0m\n",
      "\u001b[0m\u001b[0;32m    186 \u001b[0;31m        \u001b[0mtheta\u001b[0m \u001b[0;34m=\u001b[0m \u001b[0m_gen_params_from_B\u001b[0m\u001b[0;34m(\u001b[0m\u001b[0mlow_rank_B\u001b[0m\u001b[0;34m,\u001b[0m \u001b[0mm\u001b[0m\u001b[0;34m)\u001b[0m\u001b[0;34m\u001b[0m\u001b[0;34m\u001b[0m\u001b[0m\n",
      "\u001b[0m\n",
      "1\n",
      "*** NameError: name 'revealed_new' is not defined\n",
      "*** NameError: name 'revealed_new' is not defined\n",
      "1\n",
      "1\n"
     ]
    },
    {
     "name": "stderr",
     "output_type": "stream",
     "text": [
      " 20%|██        | 1/5 [01:33<06:12, 93.16s/it]\n"
     ]
    }
   ],
   "source": [
    "input_dict[\"name\"] = \"UCB\"\n",
    "input_dict[\"params_set\"] = alpha_set\n",
    "if is_multi:\n",
    "    best_UCB = eval_multi(input_dict)\n",
    "else:\n",
    "    best_UCB = eval(input_dict)"
   ]
  },
  {
   "cell_type": "code",
   "execution_count": null,
   "metadata": {},
   "outputs": [],
   "source": [
    "input_dict[\"name\"] = \"PEGE\"\n",
    "input_dict[\"params_set\"] = tau_1_PEGE_set\n",
    "if is_multi:\n",
    "    best_UCB = eval_multi(input_dict)\n",
    "else:\n",
    "    best_UCB = eval(input_dict)"
   ]
  },
  {
   "cell_type": "code",
   "execution_count": null,
   "metadata": {},
   "outputs": [],
   "source": [
    "input_dict[\"name\"] = \"TS\"\n",
    "input_dict[\"params_set\"] = v_set\n",
    "if is_multi:\n",
    "    best_TS = eval_multi(input_dict)\n",
    "else:\n",
    "    best_TS = eval(input_dict)"
   ]
  },
  {
   "cell_type": "code",
   "execution_count": null,
   "metadata": {},
   "outputs": [],
   "source": [
    "input_dict[\"name\"] = \"PHE\"\n",
    "input_dict[\"params_set\"] = alpha_PHE_set\n",
    "if is_multi:\n",
    "    best_PHE = eval_multi(input_dict)\n",
    "else:\n",
    "    best_PHE = eval(input_dict)"
   ]
  },
  {
   "cell_type": "code",
   "execution_count": null,
   "metadata": {},
   "outputs": [],
   "source": [
    "if is_multi:\n",
    "    mean_UCB = best_UCB['regrets']\n",
    "    std_UCB = np.std(mean_UCB, axis=0)\n",
    "    mean_UCB = np.mean(mean_UCB, axis=0)\n",
    "    mean_TS = best_TS['regrets']\n",
    "    std_TS = np.std(mean_TS, axis=0)\n",
    "    mean_TS = np.mean(mean_TS, axis=0)\n",
    "    mean_PHE = best_PHE['regrets']\n",
    "    std_PHE = np.std(mean_PHE, axis=0)\n",
    "    mean_PHE = np.mean(mean_PHE, axis=0)\n",
    "\n",
    "    plt.plot(np.arange(1,n_task+1), mean_UCB, '-.', label='UCB')\n",
    "    plt.fill_between(np.arange(1,n_task+1), mean_UCB-std_UCB, mean_UCB+std_UCB, alpha=0.5)\n",
    "    plt.plot(np.arange(1,n_task+1), mean_TS, '-.', label='TS')\n",
    "    plt.fill_between(np.arange(1,n_task+1), mean_TS-std_TS, mean_TS+std_TS, alpha=0.5)\n",
    "    plt.plot(np.arange(1,n_task+1), mean_PHE, '-.', label='PHE')\n",
    "    plt.fill_between(np.arange(1,n_task+1), mean_PHE-std_PHE, mean_PHE+std_PHE, alpha=0.5)\n",
    "else:\n",
    "    mean_UCB = np.mean(best_UCB['regrets'], axis=0)\n",
    "    std_UCB = np.std(best_UCB['regrets'], axis=0)\n",
    "    mean_TS = np.mean(best_TS['regrets'], axis=0)\n",
    "    std_TS = np.std(best_TS['regrets'], axis=0)\n",
    "    mean_PHE = np.mean(best_PHE['regrets'], axis=0)\n",
    "    std_PHE = np.std(best_PHE['regrets'], axis=0)\n",
    "\n",
    "    plt.plot(np.arange(1,T+1), mean_UCB, '-.', label='UCB')\n",
    "    plt.fill_between(np.arange(1,T+1), mean_UCB-std_UCB, mean_UCB+std_UCB, alpha=0.5)\n",
    "    plt.plot(np.arange(1,T+1), mean_TS, '-.', label='TS')\n",
    "    plt.fill_between(np.arange(1,T+1), mean_TS-std_TS, mean_TS+std_TS, alpha=0.5)\n",
    "    plt.plot(np.arange(1,T+1), mean_PHE, '-.', label='PHE')\n",
    "    plt.fill_between(np.arange(1,T+1), mean_PHE-std_PHE, mean_PHE+std_PHE, alpha=0.5)\n",
    "\n",
    "plt.legend()\n",
    "plt.show()\n",
    "plt.close()"
   ]
  }
 ],
 "metadata": {
  "kernelspec": {
   "display_name": "Python 3 (ipykernel)",
   "language": "python",
   "name": "python3"
  },
  "language_info": {
   "codemirror_mode": {
    "name": "ipython",
    "version": 3
   },
   "file_extension": ".py",
   "mimetype": "text/x-python",
   "name": "python",
   "nbconvert_exporter": "python",
   "pygments_lexer": "ipython3",
   "version": "3.12.2"
  }
 },
 "nbformat": 4,
 "nbformat_minor": 4
}
