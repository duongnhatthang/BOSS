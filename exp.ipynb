{
 "cells": [
  {
   "cell_type": "code",
   "execution_count": 1,
   "metadata": {},
   "outputs": [],
   "source": [
    "import numpy as np\n",
    "import matplotlib.pyplot as plt\n",
    "\n",
    "from evaluation import eval_multi, MODE_ADVERSARY, MODE_RANDOM\n",
    "%load_ext autoreload\n",
    "%autoreload 2"
   ]
  },
  {
   "cell_type": "code",
   "execution_count": 2,
   "metadata": {},
   "outputs": [],
   "source": [
    "d = 5\n",
    "n_gen_context = 20 # Sample from the action set\n",
    "alpha_set = [1.0] # Bonus for UCB\n",
    "v_set = [1.0] # Bonus for TS\n",
    "alpha_PHE_set = [1.0] # Bonus for PHE\n",
    "T = 1000 # Timesteps\n",
    "n_sim = 3 # Number of Simulations\n",
    "m = 3\n",
    "n_task = 5\n",
    "assert m<=d, \"m >= d\"\n",
    "assert T>=d**2, \"T < d**2\"\n",
    "is_multi = True\n",
    "adv_const = 1 # scaling factor for adversary task generation\n",
    "input_dict = {\n",
    "    \"d\":d,\n",
    "    \"n_gen_context\":n_gen_context,\n",
    "    \"T\":T,\n",
    "    \"n_sim\":n_sim,\n",
    "    \"rho\":0.5,\n",
    "    \"noise_std\":1,\n",
    "    \"seed\":None,\n",
    "    \"output\":True,\n",
    "    \"params_set\":alpha_set,\n",
    "    \"m\":m,\n",
    "    \"n_task\":n_task,\n",
    "    \"adv_const\":adv_const,\n",
    "    \"mode\":MODE_ADVERSARY\n",
    "}"
   ]
  },
  {
   "cell_type": "code",
   "execution_count": 3,
   "metadata": {},
   "outputs": [
    {
     "name": "stdout",
     "output_type": "stream",
     "text": [
      "UCB Simulation 1, N_gen_ctx=20, d=5, alpha=1.000\n"
     ]
    },
    {
     "name": "stderr",
     "output_type": "stream",
     "text": [
      "  0%|                                                                                             | 0/5 [00:00<?, ?it/s]"
     ]
    },
    {
     "name": "stdout",
     "output_type": "stream",
     "text": [
      "q=0.018251470051188226\n",
      "Scaling u = 0.8693072727238031\n",
      "n_revealed = 1, theta=[-0.51132142  0.41809703  0.23689888  0.28162753  0.42895835]\n"
     ]
    },
    {
     "name": "stderr",
     "output_type": "stream",
     "text": [
      " 20%|█████████████████                                                                    | 1/5 [00:00<00:02,  1.44it/s]"
     ]
    },
    {
     "name": "stdout",
     "output_type": "stream",
     "text": [
      "q=0.020256451887311434\n",
      "Scaling u = 0.24719952000664802\n",
      "n_revealed = 1, theta=[-0.1454013   0.11889166  0.06736547  0.08008467  0.12198023]\n"
     ]
    },
    {
     "name": "stderr",
     "output_type": "stream",
     "text": [
      " 40%|██████████████████████████████████                                                   | 2/5 [00:01<00:02,  1.43it/s]"
     ]
    },
    {
     "name": "stdout",
     "output_type": "stream",
     "text": [
      "q=0.02329147433682058\n",
      "Scaling u = 0.10621763576948762\n",
      "n_revealed = 1, theta=[-0.06247659  0.05108582  0.02894585  0.03441109  0.05241293]\n"
     ]
    },
    {
     "name": "stderr",
     "output_type": "stream",
     "text": [
      " 60%|███████████████████████████████████████████████████                                  | 3/5 [00:02<00:01,  1.44it/s]"
     ]
    },
    {
     "name": "stdout",
     "output_type": "stream",
     "text": [
      "q=0.028942933673927924\n",
      "Scaling u = 0.7905574923263478\n",
      "n_revealed = 1, theta=[-0.46500127  0.38022199  0.21543842  0.25611514  0.39009939]\n"
     ]
    },
    {
     "name": "stderr",
     "output_type": "stream",
     "text": [
      " 80%|████████████████████████████████████████████████████████████████████                 | 4/5 [00:02<00:00,  1.45it/s]"
     ]
    },
    {
     "name": "stdout",
     "output_type": "stream",
     "text": [
      "q=0.06987442301046175\n",
      "Scaling u = 0.6420027398064728\n",
      "n_revealed = 1, theta=[ 0.37762223 -0.30877395 -0.17495509 -0.20798819 -0.31679527]\n"
     ]
    },
    {
     "name": "stderr",
     "output_type": "stream",
     "text": [
      "100%|█████████████████████████████████████████████████████████████████████████████████████| 5/5 [00:03<00:00,  1.44it/s]\n"
     ]
    },
    {
     "name": "stdout",
     "output_type": "stream",
     "text": [
      "UCB Simulation 2, N_gen_ctx=20, d=5, alpha=1.000\n"
     ]
    },
    {
     "name": "stderr",
     "output_type": "stream",
     "text": [
      "  0%|                                                                                             | 0/5 [00:00<?, ?it/s]"
     ]
    },
    {
     "name": "stdout",
     "output_type": "stream",
     "text": [
      "q=0.018251470051188226\n",
      "Scaling u = 0.03652737350123203\n",
      "n_revealed = 1, theta=[ 0.02148519 -0.017568   -0.00995424 -0.01183369 -0.01802438]\n"
     ]
    },
    {
     "name": "stderr",
     "output_type": "stream",
     "text": [
      " 20%|█████████████████                                                                    | 1/5 [00:00<00:02,  1.46it/s]"
     ]
    },
    {
     "name": "stdout",
     "output_type": "stream",
     "text": [
      "q=0.020256451887311434\n",
      "Scaling u = 0.8759389143107743\n",
      "n_revealed = 1, theta=[-0.51522212  0.42128655  0.2387061   0.28377597  0.43223072]\n"
     ]
    },
    {
     "name": "stderr",
     "output_type": "stream",
     "text": [
      " 40%|██████████████████████████████████                                                   | 2/5 [00:01<00:02,  1.46it/s]"
     ]
    },
    {
     "name": "stdout",
     "output_type": "stream",
     "text": [
      "q=0.02329147433682058\n",
      "Scaling u = 0.20656731013770746\n",
      "n_revealed = 1, theta=[-0.12150168  0.09934943  0.0562926   0.06692115  0.10193032]\n"
     ]
    },
    {
     "name": "stderr",
     "output_type": "stream",
     "text": [
      " 60%|███████████████████████████████████████████████████                                  | 3/5 [00:02<00:01,  1.46it/s]"
     ]
    },
    {
     "name": "stdout",
     "output_type": "stream",
     "text": [
      "q=0.028942933673927924\n",
      "Scaling u = 0.008388699167970914\n",
      "n_revealed = 1, theta=[-0.00493418  0.00403458  0.00228604  0.00271767  0.00413939]\n"
     ]
    },
    {
     "name": "stderr",
     "output_type": "stream",
     "text": [
      " 80%|████████████████████████████████████████████████████████████████████                 | 4/5 [00:02<00:00,  1.46it/s]"
     ]
    },
    {
     "name": "stdout",
     "output_type": "stream",
     "text": [
      "q=0.06987442301046175\n",
      "Scaling u = 0.9114872578545258\n",
      "n_revealed = 1, theta=[-0.53613144  0.43838368  0.24839354  0.29529248  0.449772  ]\n"
     ]
    },
    {
     "name": "stderr",
     "output_type": "stream",
     "text": [
      "100%|█████████████████████████████████████████████████████████████████████████████████████| 5/5 [00:03<00:00,  1.46it/s]\n"
     ]
    },
    {
     "name": "stdout",
     "output_type": "stream",
     "text": [
      "UCB Simulation 3, N_gen_ctx=20, d=5, alpha=1.000\n"
     ]
    },
    {
     "name": "stderr",
     "output_type": "stream",
     "text": [
      "  0%|                                                                                             | 0/5 [00:00<?, ?it/s]"
     ]
    },
    {
     "name": "stdout",
     "output_type": "stream",
     "text": [
      "q=0.018251470051188226\n",
      "Scaling u = 0.17006873922009447\n",
      "n_revealed = 1, theta=[ 0.10003343 -0.08179528 -0.04634621 -0.05509679 -0.08392016]\n"
     ]
    },
    {
     "name": "stderr",
     "output_type": "stream",
     "text": [
      " 20%|█████████████████                                                                    | 1/5 [00:00<00:02,  1.45it/s]"
     ]
    },
    {
     "name": "stdout",
     "output_type": "stream",
     "text": [
      "q=0.020256451887311434\n",
      "Scaling u = 0.1647735840748834\n",
      "n_revealed = 1, theta=[-0.00364621  0.02639104  0.07362304  0.04365853 -0.13825387]\n"
     ]
    },
    {
     "name": "stderr",
     "output_type": "stream",
     "text": [
      " 40%|██████████████████████████████████                                                   | 2/5 [00:01<00:02,  1.46it/s]"
     ]
    },
    {
     "name": "stdout",
     "output_type": "stream",
     "text": [
      "q=0.02329147433682058\n",
      "Scaling u = 0.022201204207527803\n",
      "n_revealed = 1, theta=[ 0.01305862 -0.01067776 -0.00605015 -0.00719247 -0.01095515]\n"
     ]
    },
    {
     "name": "stderr",
     "output_type": "stream",
     "text": [
      " 60%|███████████████████████████████████████████████████                                  | 3/5 [00:02<00:01,  1.46it/s]"
     ]
    },
    {
     "name": "stdout",
     "output_type": "stream",
     "text": [
      "q=0.028942933673927924\n",
      "Scaling u = 0.6746496670657999\n",
      "n_revealed = 1, theta=[-0.39682497  0.32447563  0.18385185  0.21856474  0.33290485]\n"
     ]
    },
    {
     "name": "stderr",
     "output_type": "stream",
     "text": [
      " 80%|████████████████████████████████████████████████████████████████████                 | 4/5 [00:02<00:00,  1.46it/s]"
     ]
    },
    {
     "name": "stdout",
     "output_type": "stream",
     "text": [
      "q=0.06987442301046175\n",
      "Scaling u = 0.7024955093140578\n",
      "n_revealed = 1, theta=[-0.41320373  0.3378682   0.19144025  0.22758589  0.34664534]\n"
     ]
    },
    {
     "name": "stderr",
     "output_type": "stream",
     "text": [
      "100%|█████████████████████████████████████████████████████████████████████████████████████| 5/5 [00:03<00:00,  1.46it/s]\n"
     ]
    }
   ],
   "source": [
    "input_dict[\"name\"] = \"UCB\"\n",
    "input_dict[\"params_set\"] = alpha_set\n",
    "best_UCB = eval_multi(input_dict)\n",
    "# best_UCB = eval(input_dict)"
   ]
  },
  {
   "cell_type": "code",
   "execution_count": 4,
   "metadata": {},
   "outputs": [
    {
     "name": "stdout",
     "output_type": "stream",
     "text": [
      "TS Simulation 1, N_gen_ctx=20, d=5, alpha=1.000\n"
     ]
    },
    {
     "name": "stderr",
     "output_type": "stream",
     "text": [
      "  0%|                                                                                             | 0/5 [00:00<?, ?it/s]"
     ]
    },
    {
     "name": "stdout",
     "output_type": "stream",
     "text": [
      "q=0.018251470051188226\n",
      "Scaling u = 0.9555022213145578\n",
      "n_revealed = 1, theta=[-0.17595882  0.4755288   0.02883733 -0.67034921 -0.45353687]\n"
     ]
    },
    {
     "name": "stderr",
     "output_type": "stream",
     "text": [
      " 20%|█████████████████                                                                    | 1/5 [00:00<00:02,  1.41it/s]"
     ]
    },
    {
     "name": "stdout",
     "output_type": "stream",
     "text": [
      "q=0.020256451887311434\n",
      "Scaling u = 0.4996546719611058\n",
      "n_revealed = 1, theta=[-0.09201302  0.24866524  0.01507972 -0.35054143 -0.23716514]\n"
     ]
    },
    {
     "name": "stderr",
     "output_type": "stream",
     "text": [
      " 40%|██████████████████████████████████                                                   | 2/5 [00:01<00:02,  1.41it/s]"
     ]
    },
    {
     "name": "stdout",
     "output_type": "stream",
     "text": [
      "q=0.02329147433682058\n",
      "Scaling u = 0.0077257378448771785\n",
      "n_revealed = 1, theta=[-0.00142272  0.0038449   0.00023317 -0.00542013 -0.00366708]\n"
     ]
    },
    {
     "name": "stderr",
     "output_type": "stream",
     "text": [
      " 60%|███████████████████████████████████████████████████                                  | 3/5 [00:02<00:01,  1.42it/s]"
     ]
    },
    {
     "name": "stdout",
     "output_type": "stream",
     "text": [
      "q=0.028942933673927924\n",
      "Scaling u = 0.1480462318563026\n",
      "n_revealed = 1, theta=[-0.02726319  0.07367879  0.00446808 -0.10386441 -0.07027134]\n"
     ]
    },
    {
     "name": "stderr",
     "output_type": "stream",
     "text": [
      " 80%|████████████████████████████████████████████████████████████████████                 | 4/5 [00:02<00:00,  1.41it/s]"
     ]
    },
    {
     "name": "stdout",
     "output_type": "stream",
     "text": [
      "q=0.06987442301046175\n",
      "Scaling u = 0.8445692666020085\n",
      "n_revealed = 1, theta=[-0.15553015  0.42032033  0.02548935 -0.59252227 -0.40088164]\n"
     ]
    },
    {
     "name": "stderr",
     "output_type": "stream",
     "text": [
      "100%|█████████████████████████████████████████████████████████████████████████████████████| 5/5 [00:03<00:00,  1.41it/s]\n"
     ]
    },
    {
     "name": "stdout",
     "output_type": "stream",
     "text": [
      "TS Simulation 2, N_gen_ctx=20, d=5, alpha=1.000\n"
     ]
    },
    {
     "name": "stderr",
     "output_type": "stream",
     "text": [
      "  0%|                                                                                             | 0/5 [00:00<?, ?it/s]"
     ]
    },
    {
     "name": "stdout",
     "output_type": "stream",
     "text": [
      "q=0.018251470051188226\n",
      "Scaling u = 0.7179325349489942\n",
      "n_revealed = 1, theta=[-0.13220959  0.3572965   0.02166741 -0.50367806 -0.34077249]\n"
     ]
    },
    {
     "name": "stderr",
     "output_type": "stream",
     "text": [
      " 20%|█████████████████                                                                    | 1/5 [00:00<00:02,  1.41it/s]"
     ]
    },
    {
     "name": "stdout",
     "output_type": "stream",
     "text": [
      "q=0.020256451887311434\n",
      "Scaling u = 0.7737529855145611\n",
      "n_revealed = 1, theta=[-0.14248911  0.3850769   0.02335209 -0.54283987 -0.36726812]\n"
     ]
    },
    {
     "name": "stderr",
     "output_type": "stream",
     "text": [
      " 40%|██████████████████████████████████                                                   | 2/5 [00:01<00:02,  1.41it/s]"
     ]
    },
    {
     "name": "stdout",
     "output_type": "stream",
     "text": [
      "q=0.02329147433682058\n",
      "Scaling u = 0.8083465490647294\n",
      "n_revealed = 1, theta=[ 0.14885962 -0.40229322 -0.02439613  0.56710959  0.38368824]\n"
     ]
    },
    {
     "name": "stderr",
     "output_type": "stream",
     "text": [
      " 60%|███████████████████████████████████████████████████                                  | 3/5 [00:02<00:01,  1.41it/s]"
     ]
    },
    {
     "name": "stdout",
     "output_type": "stream",
     "text": [
      "q=0.028942933673927924\n",
      "Scaling u = 0.724703274516336\n",
      "n_revealed = 1, theta=[ 0.13345644 -0.36066612 -0.02187176  0.50842819  0.34398628]\n"
     ]
    },
    {
     "name": "stderr",
     "output_type": "stream",
     "text": [
      " 80%|████████████████████████████████████████████████████████████████████                 | 4/5 [00:02<00:00,  1.41it/s]"
     ]
    },
    {
     "name": "stdout",
     "output_type": "stream",
     "text": [
      "q=0.06987442301046175\n",
      "Scaling u = 0.7358971311465922\n",
      "n_revealed = 1, theta=[ 0.13551783 -0.36623702 -0.02220959  0.51628144  0.34929953]\n"
     ]
    },
    {
     "name": "stderr",
     "output_type": "stream",
     "text": [
      "100%|█████████████████████████████████████████████████████████████████████████████████████| 5/5 [00:03<00:00,  1.40it/s]\n"
     ]
    },
    {
     "name": "stdout",
     "output_type": "stream",
     "text": [
      "TS Simulation 3, N_gen_ctx=20, d=5, alpha=1.000\n"
     ]
    },
    {
     "name": "stderr",
     "output_type": "stream",
     "text": [
      "  0%|                                                                                             | 0/5 [00:00<?, ?it/s]"
     ]
    },
    {
     "name": "stdout",
     "output_type": "stream",
     "text": [
      "q=0.018251470051188226\n",
      "Scaling u = 0.8270982225942919\n",
      "n_revealed = 1, theta=[ 0.1523128  -0.41162545 -0.02496206  0.58026515  0.39258887]\n"
     ]
    },
    {
     "name": "stderr",
     "output_type": "stream",
     "text": [
      " 20%|█████████████████                                                                    | 1/5 [00:00<00:02,  1.41it/s]"
     ]
    },
    {
     "name": "stdout",
     "output_type": "stream",
     "text": [
      "q=0.020256451887311434\n",
      "Scaling u = 0.25377028975037763\n",
      "n_revealed = 1, theta=[ 0.04673262 -0.12629493 -0.00765886  0.17803696  0.12045412]\n"
     ]
    },
    {
     "name": "stderr",
     "output_type": "stream",
     "text": [
      " 40%|██████████████████████████████████                                                   | 2/5 [00:01<00:02,  1.42it/s]"
     ]
    },
    {
     "name": "stdout",
     "output_type": "stream",
     "text": [
      "q=0.02329147433682058\n",
      "Scaling u = 0.08799443739903123\n",
      "n_revealed = 1, theta=[ 0.01620446 -0.04379256 -0.0026557   0.06173403  0.04176727]\n"
     ]
    },
    {
     "name": "stderr",
     "output_type": "stream",
     "text": [
      " 60%|███████████████████████████████████████████████████                                  | 3/5 [00:02<00:01,  1.41it/s]"
     ]
    },
    {
     "name": "stdout",
     "output_type": "stream",
     "text": [
      "q=0.028942933673927924\n",
      "Scaling u = 0.8391206076977301\n",
      "n_revealed = 1, theta=[ 0.15452677 -0.41760868 -0.0253249   0.58869966  0.39829539]\n"
     ]
    },
    {
     "name": "stderr",
     "output_type": "stream",
     "text": [
      " 80%|████████████████████████████████████████████████████████████████████                 | 4/5 [00:02<00:00,  1.41it/s]"
     ]
    },
    {
     "name": "stdout",
     "output_type": "stream",
     "text": [
      "q=0.06987442301046175\n",
      "Scaling u = 0.03305148038145822\n",
      "n_revealed = 1, theta=[ 0.00608654 -0.01644887 -0.0009975   0.02318784  0.01568815]\n"
     ]
    },
    {
     "name": "stderr",
     "output_type": "stream",
     "text": [
      "100%|█████████████████████████████████████████████████████████████████████████████████████| 5/5 [00:03<00:00,  1.41it/s]\n"
     ]
    }
   ],
   "source": [
    "input_dict[\"name\"] = \"TS\"\n",
    "input_dict[\"params_set\"] = v_set\n",
    "best_TS = eval_multi(input_dict)\n",
    "# best_TS = eval(input_dict)"
   ]
  },
  {
   "cell_type": "code",
   "execution_count": 5,
   "metadata": {},
   "outputs": [
    {
     "name": "stdout",
     "output_type": "stream",
     "text": [
      "PHE Simulation 1, N_gen_ctx=20, d=5, alpha=1.000\n"
     ]
    },
    {
     "name": "stderr",
     "output_type": "stream",
     "text": [
      "  0%|                                                                                             | 0/5 [00:00<?, ?it/s]"
     ]
    },
    {
     "name": "stdout",
     "output_type": "stream",
     "text": [
      "q=0.018251470051188226\n",
      "Scaling u = 0.33874240775508224\n",
      "n_revealed = 1, theta=[ 0.00666693  0.1012264   0.08297799 -0.06055632  0.30643559]\n"
     ]
    },
    {
     "name": "stderr",
     "output_type": "stream",
     "text": [
      " 20%|█████████████████                                                                    | 1/5 [00:00<00:03,  1.30it/s]"
     ]
    },
    {
     "name": "stdout",
     "output_type": "stream",
     "text": [
      "q=0.020256451887311434\n",
      "Scaling u = 0.8353206156047815\n",
      "n_revealed = 1, theta=[-0.0164403  -0.24961886 -0.20461927  0.14932865 -0.75565374]\n"
     ]
    },
    {
     "name": "stderr",
     "output_type": "stream",
     "text": [
      " 40%|██████████████████████████████████                                                   | 2/5 [00:01<00:02,  1.30it/s]"
     ]
    },
    {
     "name": "stdout",
     "output_type": "stream",
     "text": [
      "q=0.02329147433682058\n",
      "Scaling u = 0.9573054022094193\n",
      "n_revealed = 1, theta=[-0.01884114 -0.28607158 -0.23450054  0.17113563 -0.8660045 ]\n"
     ]
    },
    {
     "name": "stderr",
     "output_type": "stream",
     "text": [
      " 60%|███████████████████████████████████████████████████                                  | 3/5 [00:02<00:01,  1.30it/s]"
     ]
    },
    {
     "name": "stdout",
     "output_type": "stream",
     "text": [
      "q=0.028942933673927924\n",
      "Scaling u = 0.9991292519055263\n",
      "n_revealed = 1, theta=[-0.01966429 -0.2985698  -0.24474566  0.1786124  -0.90383949]\n"
     ]
    },
    {
     "name": "stderr",
     "output_type": "stream",
     "text": [
      " 80%|████████████████████████████████████████████████████████████████████                 | 4/5 [00:03<00:00,  1.30it/s]"
     ]
    },
    {
     "name": "stdout",
     "output_type": "stream",
     "text": [
      "q=0.06987442301046175\n",
      "Scaling u = 0.3975184510562588\n",
      "n_revealed = 1, theta=[ 0.00782373  0.11879044  0.09737571 -0.0710636   0.359606  ]\n"
     ]
    },
    {
     "name": "stderr",
     "output_type": "stream",
     "text": [
      "100%|█████████████████████████████████████████████████████████████████████████████████████| 5/5 [00:03<00:00,  1.30it/s]\n"
     ]
    },
    {
     "name": "stdout",
     "output_type": "stream",
     "text": [
      "PHE Simulation 2, N_gen_ctx=20, d=5, alpha=1.000\n"
     ]
    },
    {
     "name": "stderr",
     "output_type": "stream",
     "text": [
      "  0%|                                                                                             | 0/5 [00:00<?, ?it/s]"
     ]
    },
    {
     "name": "stdout",
     "output_type": "stream",
     "text": [
      "q=0.018251470051188226\n",
      "Scaling u = 0.3063628641305982\n",
      "n_revealed = 1, theta=[-0.00602966 -0.09155042 -0.07504633  0.0547679  -0.27714418]\n"
     ]
    },
    {
     "name": "stderr",
     "output_type": "stream",
     "text": [
      " 20%|█████████████████                                                                    | 1/5 [00:00<00:03,  1.29it/s]"
     ]
    },
    {
     "name": "stdout",
     "output_type": "stream",
     "text": [
      "q=0.020256451887311434\n",
      "Scaling u = 0.34368015303242494\n",
      "n_revealed = 1, theta=[-0.00676412 -0.10270194 -0.08418753  0.06143903 -0.31090241]\n"
     ]
    },
    {
     "name": "stderr",
     "output_type": "stream",
     "text": [
      " 40%|██████████████████████████████████                                                   | 2/5 [00:01<00:02,  1.29it/s]"
     ]
    },
    {
     "name": "stdout",
     "output_type": "stream",
     "text": [
      "q=0.02329147433682058\n",
      "Scaling u = 0.9349062991109776\n",
      "n_revealed = 1, theta=[-0.01840029 -0.27937805 -0.22901368  0.16713139 -0.84574166]\n"
     ]
    },
    {
     "name": "stderr",
     "output_type": "stream",
     "text": [
      " 60%|███████████████████████████████████████████████████                                  | 3/5 [00:02<00:01,  1.29it/s]"
     ]
    },
    {
     "name": "stdout",
     "output_type": "stream",
     "text": [
      "q=0.028942933673927924\n",
      "Scaling u = 0.23438304125351261\n",
      "n_revealed = 1, theta=[-0.00461299 -0.07004069 -0.05741423  0.0419002  -0.21202927]\n"
     ]
    },
    {
     "name": "stderr",
     "output_type": "stream",
     "text": [
      " 80%|████████████████████████████████████████████████████████████████████                 | 4/5 [00:03<00:00,  1.29it/s]"
     ]
    },
    {
     "name": "stdout",
     "output_type": "stream",
     "text": [
      "q=0.06987442301046175\n",
      "Scaling u = 0.19057068029528546\n",
      "n_revealed = 1, theta=[-0.0037507  -0.05694824 -0.046682    0.03406795 -0.17239542]\n"
     ]
    },
    {
     "name": "stderr",
     "output_type": "stream",
     "text": [
      "100%|█████████████████████████████████████████████████████████████████████████████████████| 5/5 [00:03<00:00,  1.29it/s]\n"
     ]
    },
    {
     "name": "stdout",
     "output_type": "stream",
     "text": [
      "PHE Simulation 3, N_gen_ctx=20, d=5, alpha=1.000\n"
     ]
    },
    {
     "name": "stderr",
     "output_type": "stream",
     "text": [
      "  0%|                                                                                             | 0/5 [00:00<?, ?it/s]"
     ]
    },
    {
     "name": "stdout",
     "output_type": "stream",
     "text": [
      "q=0.018251470051188226\n",
      "Scaling u = 0.3646566671855883\n",
      "n_revealed = 1, theta=[ 0.00717696  0.10897035  0.08932592 -0.06518897  0.32987834]\n"
     ]
    },
    {
     "name": "stderr",
     "output_type": "stream",
     "text": [
      " 20%|█████████████████                                                                    | 1/5 [00:00<00:03,  1.28it/s]"
     ]
    },
    {
     "name": "stdout",
     "output_type": "stream",
     "text": [
      "q=0.020256451887311434\n",
      "Scaling u = 0.012984793253859372\n",
      "n_revealed = 1, theta=[-0.00025556 -0.00388025 -0.00318074  0.00232127 -0.0117464 ]\n"
     ]
    },
    {
     "name": "stderr",
     "output_type": "stream",
     "text": [
      " 40%|██████████████████████████████████                                                   | 2/5 [00:01<00:02,  1.29it/s]"
     ]
    },
    {
     "name": "stdout",
     "output_type": "stream",
     "text": [
      "q=0.02329147433682058\n",
      "Scaling u = 0.5573440446939576\n",
      "n_revealed = 1, theta=[ 0.01096933  0.16655112  0.13652642 -0.09963531  0.50418858]\n"
     ]
    },
    {
     "name": "stderr",
     "output_type": "stream",
     "text": [
      " 60%|███████████████████████████████████████████████████                                  | 3/5 [00:02<00:01,  1.24it/s]"
     ]
    },
    {
     "name": "stdout",
     "output_type": "stream",
     "text": [
      "q=0.028942933673927924\n",
      "Scaling u = 0.03732864987414686\n",
      "n_revealed = 1, theta=[-0.00073468 -0.01115492 -0.00914399  0.00667317 -0.03376851]\n"
     ]
    },
    {
     "name": "stderr",
     "output_type": "stream",
     "text": [
      " 80%|████████████████████████████████████████████████████████████████████                 | 4/5 [00:03<00:00,  1.26it/s]"
     ]
    },
    {
     "name": "stdout",
     "output_type": "stream",
     "text": [
      "q=0.06987442301046175\n",
      "Scaling u = 0.09404113431307248\n",
      "n_revealed = 1, theta=[-0.00185086 -0.02810231 -0.02303622  0.01681155 -0.08507217]\n"
     ]
    },
    {
     "name": "stderr",
     "output_type": "stream",
     "text": [
      "100%|█████████████████████████████████████████████████████████████████████████████████████| 5/5 [00:03<00:00,  1.27it/s]\n"
     ]
    }
   ],
   "source": [
    "input_dict[\"name\"] = \"PHE\"\n",
    "input_dict[\"params_set\"] = alpha_PHE_set\n",
    "best_PHE = eval_multi(input_dict)\n",
    "# best_PHE = eval(input_dict)"
   ]
  },
  {
   "cell_type": "code",
   "execution_count": 6,
   "metadata": {},
   "outputs": [
    {
     "ename": "ValueError",
     "evalue": "x and y must have same first dimension, but have shapes (5,) and (1,)",
     "output_type": "error",
     "traceback": [
      "\u001b[0;31m---------------------------------------------------------------------------\u001b[0m",
      "\u001b[0;31mValueError\u001b[0m                                Traceback (most recent call last)",
      "Cell \u001b[0;32mIn[6], line 12\u001b[0m\n\u001b[1;32m      9\u001b[0m std_PHE \u001b[38;5;241m=\u001b[39m np\u001b[38;5;241m.\u001b[39mstd(mean_PHE, axis\u001b[38;5;241m=\u001b[39m\u001b[38;5;241m0\u001b[39m)\n\u001b[1;32m     10\u001b[0m mean_PHE \u001b[38;5;241m=\u001b[39m np\u001b[38;5;241m.\u001b[39mmean(mean_PHE, axis\u001b[38;5;241m=\u001b[39m\u001b[38;5;241m0\u001b[39m)\n\u001b[0;32m---> 12\u001b[0m \u001b[43mplt\u001b[49m\u001b[38;5;241;43m.\u001b[39;49m\u001b[43mplot\u001b[49m\u001b[43m(\u001b[49m\u001b[43mnp\u001b[49m\u001b[38;5;241;43m.\u001b[39;49m\u001b[43marange\u001b[49m\u001b[43m(\u001b[49m\u001b[38;5;241;43m1\u001b[39;49m\u001b[43m,\u001b[49m\u001b[43mn_task\u001b[49m\u001b[38;5;241;43m+\u001b[39;49m\u001b[38;5;241;43m1\u001b[39;49m\u001b[43m)\u001b[49m\u001b[43m,\u001b[49m\u001b[43m \u001b[49m\u001b[43mmean_UCB\u001b[49m\u001b[43m,\u001b[49m\u001b[43m \u001b[49m\u001b[38;5;124;43m'\u001b[39;49m\u001b[38;5;124;43m-.\u001b[39;49m\u001b[38;5;124;43m'\u001b[39;49m\u001b[43m,\u001b[49m\u001b[43m \u001b[49m\u001b[43mlabel\u001b[49m\u001b[38;5;241;43m=\u001b[39;49m\u001b[38;5;124;43m'\u001b[39;49m\u001b[38;5;124;43mUCB\u001b[39;49m\u001b[38;5;124;43m'\u001b[39;49m\u001b[43m)\u001b[49m\n\u001b[1;32m     13\u001b[0m plt\u001b[38;5;241m.\u001b[39mfill_between(np\u001b[38;5;241m.\u001b[39marange(\u001b[38;5;241m1\u001b[39m,n_task\u001b[38;5;241m+\u001b[39m\u001b[38;5;241m1\u001b[39m), mean_UCB\u001b[38;5;241m-\u001b[39mstd_UCB, mean_UCB\u001b[38;5;241m+\u001b[39mstd_UCB, alpha\u001b[38;5;241m=\u001b[39m\u001b[38;5;241m0.5\u001b[39m)\n\u001b[1;32m     14\u001b[0m plt\u001b[38;5;241m.\u001b[39mplot(np\u001b[38;5;241m.\u001b[39marange(\u001b[38;5;241m1\u001b[39m,n_task\u001b[38;5;241m+\u001b[39m\u001b[38;5;241m1\u001b[39m), mean_TS, \u001b[38;5;124m'\u001b[39m\u001b[38;5;124m-.\u001b[39m\u001b[38;5;124m'\u001b[39m, label\u001b[38;5;241m=\u001b[39m\u001b[38;5;124m'\u001b[39m\u001b[38;5;124mTS\u001b[39m\u001b[38;5;124m'\u001b[39m)\n",
      "File \u001b[0;32m~/miniconda3/envs/serena/lib/python3.12/site-packages/matplotlib/pyplot.py:3590\u001b[0m, in \u001b[0;36mplot\u001b[0;34m(scalex, scaley, data, *args, **kwargs)\u001b[0m\n\u001b[1;32m   3582\u001b[0m \u001b[38;5;129m@_copy_docstring_and_deprecators\u001b[39m(Axes\u001b[38;5;241m.\u001b[39mplot)\n\u001b[1;32m   3583\u001b[0m \u001b[38;5;28;01mdef\u001b[39;00m \u001b[38;5;21mplot\u001b[39m(\n\u001b[1;32m   3584\u001b[0m     \u001b[38;5;241m*\u001b[39margs: \u001b[38;5;28mfloat\u001b[39m \u001b[38;5;241m|\u001b[39m ArrayLike \u001b[38;5;241m|\u001b[39m \u001b[38;5;28mstr\u001b[39m,\n\u001b[0;32m   (...)\u001b[0m\n\u001b[1;32m   3588\u001b[0m     \u001b[38;5;241m*\u001b[39m\u001b[38;5;241m*\u001b[39mkwargs,\n\u001b[1;32m   3589\u001b[0m ) \u001b[38;5;241m-\u001b[39m\u001b[38;5;241m>\u001b[39m \u001b[38;5;28mlist\u001b[39m[Line2D]:\n\u001b[0;32m-> 3590\u001b[0m     \u001b[38;5;28;01mreturn\u001b[39;00m \u001b[43mgca\u001b[49m\u001b[43m(\u001b[49m\u001b[43m)\u001b[49m\u001b[38;5;241;43m.\u001b[39;49m\u001b[43mplot\u001b[49m\u001b[43m(\u001b[49m\n\u001b[1;32m   3591\u001b[0m \u001b[43m        \u001b[49m\u001b[38;5;241;43m*\u001b[39;49m\u001b[43margs\u001b[49m\u001b[43m,\u001b[49m\n\u001b[1;32m   3592\u001b[0m \u001b[43m        \u001b[49m\u001b[43mscalex\u001b[49m\u001b[38;5;241;43m=\u001b[39;49m\u001b[43mscalex\u001b[49m\u001b[43m,\u001b[49m\n\u001b[1;32m   3593\u001b[0m \u001b[43m        \u001b[49m\u001b[43mscaley\u001b[49m\u001b[38;5;241;43m=\u001b[39;49m\u001b[43mscaley\u001b[49m\u001b[43m,\u001b[49m\n\u001b[1;32m   3594\u001b[0m \u001b[43m        \u001b[49m\u001b[38;5;241;43m*\u001b[39;49m\u001b[38;5;241;43m*\u001b[39;49m\u001b[43m(\u001b[49m\u001b[43m{\u001b[49m\u001b[38;5;124;43m\"\u001b[39;49m\u001b[38;5;124;43mdata\u001b[39;49m\u001b[38;5;124;43m\"\u001b[39;49m\u001b[43m:\u001b[49m\u001b[43m \u001b[49m\u001b[43mdata\u001b[49m\u001b[43m}\u001b[49m\u001b[43m \u001b[49m\u001b[38;5;28;43;01mif\u001b[39;49;00m\u001b[43m \u001b[49m\u001b[43mdata\u001b[49m\u001b[43m \u001b[49m\u001b[38;5;129;43;01mis\u001b[39;49;00m\u001b[43m \u001b[49m\u001b[38;5;129;43;01mnot\u001b[39;49;00m\u001b[43m \u001b[49m\u001b[38;5;28;43;01mNone\u001b[39;49;00m\u001b[43m \u001b[49m\u001b[38;5;28;43;01melse\u001b[39;49;00m\u001b[43m \u001b[49m\u001b[43m{\u001b[49m\u001b[43m}\u001b[49m\u001b[43m)\u001b[49m\u001b[43m,\u001b[49m\n\u001b[1;32m   3595\u001b[0m \u001b[43m        \u001b[49m\u001b[38;5;241;43m*\u001b[39;49m\u001b[38;5;241;43m*\u001b[39;49m\u001b[43mkwargs\u001b[49m\u001b[43m,\u001b[49m\n\u001b[1;32m   3596\u001b[0m \u001b[43m    \u001b[49m\u001b[43m)\u001b[49m\n",
      "File \u001b[0;32m~/miniconda3/envs/serena/lib/python3.12/site-packages/matplotlib/axes/_axes.py:1724\u001b[0m, in \u001b[0;36mAxes.plot\u001b[0;34m(self, scalex, scaley, data, *args, **kwargs)\u001b[0m\n\u001b[1;32m   1481\u001b[0m \u001b[38;5;250m\u001b[39m\u001b[38;5;124;03m\"\"\"\u001b[39;00m\n\u001b[1;32m   1482\u001b[0m \u001b[38;5;124;03mPlot y versus x as lines and/or markers.\u001b[39;00m\n\u001b[1;32m   1483\u001b[0m \n\u001b[0;32m   (...)\u001b[0m\n\u001b[1;32m   1721\u001b[0m \u001b[38;5;124;03m(``'green'``) or hex strings (``'#008000'``).\u001b[39;00m\n\u001b[1;32m   1722\u001b[0m \u001b[38;5;124;03m\"\"\"\u001b[39;00m\n\u001b[1;32m   1723\u001b[0m kwargs \u001b[38;5;241m=\u001b[39m cbook\u001b[38;5;241m.\u001b[39mnormalize_kwargs(kwargs, mlines\u001b[38;5;241m.\u001b[39mLine2D)\n\u001b[0;32m-> 1724\u001b[0m lines \u001b[38;5;241m=\u001b[39m [\u001b[38;5;241m*\u001b[39m\u001b[38;5;28mself\u001b[39m\u001b[38;5;241m.\u001b[39m_get_lines(\u001b[38;5;28mself\u001b[39m, \u001b[38;5;241m*\u001b[39margs, data\u001b[38;5;241m=\u001b[39mdata, \u001b[38;5;241m*\u001b[39m\u001b[38;5;241m*\u001b[39mkwargs)]\n\u001b[1;32m   1725\u001b[0m \u001b[38;5;28;01mfor\u001b[39;00m line \u001b[38;5;129;01min\u001b[39;00m lines:\n\u001b[1;32m   1726\u001b[0m     \u001b[38;5;28mself\u001b[39m\u001b[38;5;241m.\u001b[39madd_line(line)\n",
      "File \u001b[0;32m~/miniconda3/envs/serena/lib/python3.12/site-packages/matplotlib/axes/_base.py:303\u001b[0m, in \u001b[0;36m_process_plot_var_args.__call__\u001b[0;34m(self, axes, data, *args, **kwargs)\u001b[0m\n\u001b[1;32m    301\u001b[0m     this \u001b[38;5;241m+\u001b[39m\u001b[38;5;241m=\u001b[39m args[\u001b[38;5;241m0\u001b[39m],\n\u001b[1;32m    302\u001b[0m     args \u001b[38;5;241m=\u001b[39m args[\u001b[38;5;241m1\u001b[39m:]\n\u001b[0;32m--> 303\u001b[0m \u001b[38;5;28;01myield from\u001b[39;00m \u001b[38;5;28;43mself\u001b[39;49m\u001b[38;5;241;43m.\u001b[39;49m\u001b[43m_plot_args\u001b[49m\u001b[43m(\u001b[49m\n\u001b[1;32m    304\u001b[0m \u001b[43m    \u001b[49m\u001b[43maxes\u001b[49m\u001b[43m,\u001b[49m\u001b[43m \u001b[49m\u001b[43mthis\u001b[49m\u001b[43m,\u001b[49m\u001b[43m \u001b[49m\u001b[43mkwargs\u001b[49m\u001b[43m,\u001b[49m\u001b[43m \u001b[49m\u001b[43mambiguous_fmt_datakey\u001b[49m\u001b[38;5;241;43m=\u001b[39;49m\u001b[43mambiguous_fmt_datakey\u001b[49m\u001b[43m)\u001b[49m\n",
      "File \u001b[0;32m~/miniconda3/envs/serena/lib/python3.12/site-packages/matplotlib/axes/_base.py:499\u001b[0m, in \u001b[0;36m_process_plot_var_args._plot_args\u001b[0;34m(self, axes, tup, kwargs, return_kwargs, ambiguous_fmt_datakey)\u001b[0m\n\u001b[1;32m    496\u001b[0m     axes\u001b[38;5;241m.\u001b[39myaxis\u001b[38;5;241m.\u001b[39mupdate_units(y)\n\u001b[1;32m    498\u001b[0m \u001b[38;5;28;01mif\u001b[39;00m x\u001b[38;5;241m.\u001b[39mshape[\u001b[38;5;241m0\u001b[39m] \u001b[38;5;241m!=\u001b[39m y\u001b[38;5;241m.\u001b[39mshape[\u001b[38;5;241m0\u001b[39m]:\n\u001b[0;32m--> 499\u001b[0m     \u001b[38;5;28;01mraise\u001b[39;00m \u001b[38;5;167;01mValueError\u001b[39;00m(\u001b[38;5;124mf\u001b[39m\u001b[38;5;124m\"\u001b[39m\u001b[38;5;124mx and y must have same first dimension, but \u001b[39m\u001b[38;5;124m\"\u001b[39m\n\u001b[1;32m    500\u001b[0m                      \u001b[38;5;124mf\u001b[39m\u001b[38;5;124m\"\u001b[39m\u001b[38;5;124mhave shapes \u001b[39m\u001b[38;5;132;01m{\u001b[39;00mx\u001b[38;5;241m.\u001b[39mshape\u001b[38;5;132;01m}\u001b[39;00m\u001b[38;5;124m and \u001b[39m\u001b[38;5;132;01m{\u001b[39;00my\u001b[38;5;241m.\u001b[39mshape\u001b[38;5;132;01m}\u001b[39;00m\u001b[38;5;124m\"\u001b[39m)\n\u001b[1;32m    501\u001b[0m \u001b[38;5;28;01mif\u001b[39;00m x\u001b[38;5;241m.\u001b[39mndim \u001b[38;5;241m>\u001b[39m \u001b[38;5;241m2\u001b[39m \u001b[38;5;129;01mor\u001b[39;00m y\u001b[38;5;241m.\u001b[39mndim \u001b[38;5;241m>\u001b[39m \u001b[38;5;241m2\u001b[39m:\n\u001b[1;32m    502\u001b[0m     \u001b[38;5;28;01mraise\u001b[39;00m \u001b[38;5;167;01mValueError\u001b[39;00m(\u001b[38;5;124mf\u001b[39m\u001b[38;5;124m\"\u001b[39m\u001b[38;5;124mx and y can be no greater than 2D, but have \u001b[39m\u001b[38;5;124m\"\u001b[39m\n\u001b[1;32m    503\u001b[0m                      \u001b[38;5;124mf\u001b[39m\u001b[38;5;124m\"\u001b[39m\u001b[38;5;124mshapes \u001b[39m\u001b[38;5;132;01m{\u001b[39;00mx\u001b[38;5;241m.\u001b[39mshape\u001b[38;5;132;01m}\u001b[39;00m\u001b[38;5;124m and \u001b[39m\u001b[38;5;132;01m{\u001b[39;00my\u001b[38;5;241m.\u001b[39mshape\u001b[38;5;132;01m}\u001b[39;00m\u001b[38;5;124m\"\u001b[39m)\n",
      "\u001b[0;31mValueError\u001b[0m: x and y must have same first dimension, but have shapes (5,) and (1,)"
     ]
    },
    {
     "data": {
      "image/png": "[encoded data removed]",
      "text/plain": [
       "<Figure size 640x480 with 1 Axes>"
      ]
     },
     "metadata": {},
     "output_type": "display_data"
    }
   ],
   "source": [
    "if is_multi:\n",
    "    mean_UCB = np.mean(best_UCB['regrets'], axis=1)\n",
    "    std_UCB = np.std(mean_UCB, axis=0)\n",
    "    mean_UCB = np.mean(mean_UCB, axis=0)\n",
    "    mean_TS = np.mean(best_TS['regrets'], axis=1)\n",
    "    std_TS = np.std(mean_TS, axis=0)\n",
    "    mean_TS = np.mean(mean_TS, axis=0)\n",
    "    mean_PHE = np.mean(best_PHE['regrets'], axis=1)\n",
    "    std_PHE = np.std(mean_PHE, axis=0)\n",
    "    mean_PHE = np.mean(mean_PHE, axis=0)\n",
    "\n",
    "    plt.plot(np.arange(1,n_task+1), mean_UCB, '-.', label='UCB')\n",
    "    plt.fill_between(np.arange(1,n_task+1), mean_UCB-std_UCB, mean_UCB+std_UCB, alpha=0.5)\n",
    "    plt.plot(np.arange(1,n_task+1), mean_TS, '-.', label='TS')\n",
    "    plt.fill_between(np.arange(1,n_task+1), mean_TS-std_TS, mean_TS+std_TS, alpha=0.5)\n",
    "    plt.plot(np.arange(1,n_task+1), mean_PHE, '-.', label='PHE')\n",
    "    plt.fill_between(np.arange(1,n_task+1), mean_PHE-std_PHE, mean_PHE+std_PHE, alpha=0.5)\n",
    "else:\n",
    "    mean_UCB = np.mean(best_UCB['regrets'], axis=0)\n",
    "    std_UCB = np.std(best_UCB['regrets'], axis=0)\n",
    "    mean_TS = np.mean(best_TS['regrets'], axis=0)\n",
    "    std_TS = np.std(best_TS['regrets'], axis=0)\n",
    "    mean_PHE = np.mean(best_PHE['regrets'], axis=0)\n",
    "    std_PHE = np.std(best_PHE['regrets'], axis=0)\n",
    "\n",
    "    plt.plot(np.arange(1,T+1), mean_UCB, '-.', label='UCB')\n",
    "    plt.fill_between(np.arange(1,T+1), mean_UCB-std_UCB, mean_UCB+std_UCB, alpha=0.5)\n",
    "    plt.plot(np.arange(1,T+1), mean_TS, '-.', label='TS')\n",
    "    plt.fill_between(np.arange(1,T+1), mean_TS-std_TS, mean_TS+std_TS, alpha=0.5)\n",
    "    plt.plot(np.arange(1,T+1), mean_PHE, '-.', label='PHE')\n",
    "    plt.fill_between(np.arange(1,T+1), mean_PHE-std_PHE, mean_PHE+std_PHE, alpha=0.5)\n",
    "\n",
    "plt.legend()\n",
    "plt.show()\n",
    "plt.close()"
   ]
  }
 ],
 "metadata": {
  "kernelspec": {
   "display_name": "Python 3 (ipykernel)",
   "language": "python",
   "name": "python3"
  },
  "language_info": {
   "codemirror_mode": {
    "name": "ipython",
    "version": 3
   },
   "file_extension": ".py",
   "mimetype": "text/x-python",
   "name": "python",
   "nbconvert_exporter": "python",
   "pygments_lexer": "ipython3",
   "version": "3.12.2"
  }
 },
 "nbformat": 4,
 "nbformat_minor": 4
}
