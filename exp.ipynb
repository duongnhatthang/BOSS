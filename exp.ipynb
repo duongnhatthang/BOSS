{
 "cells": [
  {
   "cell_type": "code",
   "execution_count": 73,
   "metadata": {},
   "outputs": [
    {
     "name": "stdout",
     "output_type": "stream",
     "text": [
      "The autoreload extension is already loaded. To reload it, use:\n",
      "  %reload_ext autoreload\n"
     ]
    }
   ],
   "source": [
    "import numpy as np\n",
    "import matplotlib.pyplot as plt\n",
    "\n",
    "from evaluation import *\n",
    "%load_ext autoreload\n",
    "%autoreload 2"
   ]
  },
  {
   "cell_type": "code",
   "execution_count": 74,
   "metadata": {},
   "outputs": [],
   "source": [
    "d = 3\n",
    "n_gen_context = 20 # Sample from the action set\n",
    "alpha_set = [1.0] # Bonus for UCB\n",
    "v_set = [1.0] # Bonus for TS\n",
    "alpha_PHE_set = [1.0] # Bonus for PHE\n",
    "T = 1000 # Timesteps\n",
    "n_sim = 3 # Number of Simulations\n",
    "m = 2\n",
    "n_task = 5\n",
    "assert m<=d, \"m >= d\"\n",
    "is_multi = True\n",
    "input_dict = {\n",
    "    \"d\":d,\n",
    "    \"n_gen_context\":n_gen_context,\n",
    "    \"T\":T,\n",
    "    \"n_sim\":n_sim,\n",
    "    \"rho\":0.5,\n",
    "    \"noise_std\":1,\n",
    "    \"seed\":0,\n",
    "    \"output\":True,\n",
    "    \"params_set\":alpha_set,\n",
    "    \"m\":m,\n",
    "    \"n_task\":n_task\n",
    "}"
   ]
  },
  {
   "cell_type": "code",
   "execution_count": 75,
   "metadata": {},
   "outputs": [
    {
     "name": "stdout",
     "output_type": "stream",
     "text": [
      "UCB Simulation 1, N_gen_ctx=20, d=3, alpha=1.000\n"
     ]
    },
    {
     "name": "stderr",
     "output_type": "stream",
     "text": [
      "100%|█████████████████████████████████████████████████████████████████████████████████████| 5/5 [00:02<00:00,  2.41it/s]\n"
     ]
    },
    {
     "name": "stdout",
     "output_type": "stream",
     "text": [
      "UCB Simulation 2, N_gen_ctx=20, d=3, alpha=1.000\n"
     ]
    },
    {
     "name": "stderr",
     "output_type": "stream",
     "text": [
      "100%|█████████████████████████████████████████████████████████████████████████████████████| 5/5 [00:02<00:00,  2.41it/s]\n"
     ]
    },
    {
     "name": "stdout",
     "output_type": "stream",
     "text": [
      "UCB Simulation 3, N_gen_ctx=20, d=3, alpha=1.000\n"
     ]
    },
    {
     "name": "stderr",
     "output_type": "stream",
     "text": [
      "100%|█████████████████████████████████████████████████████████████████████████████████████| 5/5 [00:02<00:00,  2.40it/s]\n"
     ]
    }
   ],
   "source": [
    "input_dict[\"name\"] = \"UCB\"\n",
    "best_UCB = eval_multi(input_dict)\n",
    "# best_UCB = eval(input_dict)"
   ]
  },
  {
   "cell_type": "code",
   "execution_count": 76,
   "metadata": {},
   "outputs": [
    {
     "name": "stdout",
     "output_type": "stream",
     "text": [
      "TS Simulation 1, N_gen_ctx=20, d=3, alpha=1.000\n"
     ]
    },
    {
     "name": "stderr",
     "output_type": "stream",
     "text": [
      "100%|█████████████████████████████████████████████████████████████████████████████████████| 5/5 [00:02<00:00,  2.33it/s]\n"
     ]
    },
    {
     "name": "stdout",
     "output_type": "stream",
     "text": [
      "TS Simulation 2, N_gen_ctx=20, d=3, alpha=1.000\n"
     ]
    },
    {
     "name": "stderr",
     "output_type": "stream",
     "text": [
      "100%|█████████████████████████████████████████████████████████████████████████████████████| 5/5 [00:02<00:00,  2.34it/s]\n"
     ]
    },
    {
     "name": "stdout",
     "output_type": "stream",
     "text": [
      "TS Simulation 3, N_gen_ctx=20, d=3, alpha=1.000\n"
     ]
    },
    {
     "name": "stderr",
     "output_type": "stream",
     "text": [
      "100%|█████████████████████████████████████████████████████████████████████████████████████| 5/5 [00:02<00:00,  2.33it/s]\n"
     ]
    }
   ],
   "source": [
    "input_dict[\"name\"] = \"TS\"\n",
    "best_TS = eval_multi(input_dict)\n",
    "# best_TS = eval(input_dict)"
   ]
  },
  {
   "cell_type": "code",
   "execution_count": 77,
   "metadata": {},
   "outputs": [
    {
     "name": "stdout",
     "output_type": "stream",
     "text": [
      "PHE Simulation 1, N_gen_ctx=20, d=3, alpha=1.000\n"
     ]
    },
    {
     "name": "stderr",
     "output_type": "stream",
     "text": [
      "100%|█████████████████████████████████████████████████████████████████████████████████████| 5/5 [00:02<00:00,  2.05it/s]\n"
     ]
    },
    {
     "name": "stdout",
     "output_type": "stream",
     "text": [
      "PHE Simulation 2, N_gen_ctx=20, d=3, alpha=1.000\n"
     ]
    },
    {
     "name": "stderr",
     "output_type": "stream",
     "text": [
      "100%|█████████████████████████████████████████████████████████████████████████████████████| 5/5 [00:02<00:00,  2.04it/s]\n"
     ]
    },
    {
     "name": "stdout",
     "output_type": "stream",
     "text": [
      "PHE Simulation 3, N_gen_ctx=20, d=3, alpha=1.000\n"
     ]
    },
    {
     "name": "stderr",
     "output_type": "stream",
     "text": [
      "100%|█████████████████████████████████████████████████████████████████████████████████████| 5/5 [00:02<00:00,  2.04it/s]\n"
     ]
    }
   ],
   "source": [
    "input_dict[\"name\"] = \"PHE\"\n",
    "best_PHE = eval_multi(input_dict)\n",
    "# best_PHE = eval(input_dict)"
   ]
  },
  {
   "cell_type": "code",
   "execution_count": null,
   "metadata": {
    "collapsed": true,
    "jupyter": {
     "outputs_hidden": true
    }
   },
   "outputs": [],
   "source": [
    "if is_multi:\n",
    "    mean_UCB = np.mean(best_UCB['regrets'], axis=1)\n",
    "    std_UCB = np.std(mean_UCB, axis=0)\n",
    "    mean_UCB = np.mean(mean_UCB, axis=0)\n",
    "    mean_TS = np.mean(best_TS['regrets'], axis=1)\n",
    "    std_TS = np.std(mean_TS, axis=0)\n",
    "    mean_TS = np.mean(mean_TS, axis=0)\n",
    "    mean_PHE = np.mean(best_PHE['regrets'], axis=1)\n",
    "    std_PHE = np.std(mean_PHE, axis=0)\n",
    "    mean_PHE = np.mean(mean_PHE, axis=0)\n",
    "\n",
    "    plt.plot(np.arange(1,n_task+1), mean_UCB, '-.', label='UCB')\n",
    "    plt.fill_between(np.arange(1,n_task+1), mean_UCB-std_UCB, mean_UCB+std_UCB, alpha=0.5)\n",
    "    plt.plot(np.arange(1,n_task+1), mean_TS, '-.', label='TS')\n",
    "    plt.fill_between(np.arange(1,n_task+1), mean_TS-std_TS, mean_TS+std_TS, alpha=0.5)\n",
    "    plt.plot(np.arange(1,n_task+1), mean_PHE, '-.', label='PHE')\n",
    "    plt.fill_between(np.arange(1,n_task+1), mean_PHE-std_PHE, mean_PHE+std_PHE, alpha=0.5)\n",
    "else:\n",
    "    mean_UCB = np.mean(best_UCB['regrets'], axis=0)\n",
    "    std_UCB = np.std(best_UCB['regrets'], axis=0)\n",
    "    mean_TS = np.mean(best_TS['regrets'], axis=0)\n",
    "    std_TS = np.std(best_TS['regrets'], axis=0)\n",
    "    mean_PHE = np.mean(best_PHE['regrets'], axis=0)\n",
    "    std_PHE = np.std(best_PHE['regrets'], axis=0)\n",
    "\n",
    "    plt.plot(np.arange(1,T+1), mean_UCB, '-.', label='UCB')\n",
    "    plt.fill_between(np.arange(1,T+1), mean_UCB-std_UCB, mean_UCB+std_UCB, alpha=0.5)\n",
    "    plt.plot(np.arange(1,T+1), mean_TS, '-.', label='TS')\n",
    "    plt.fill_between(np.arange(1,T+1), mean_TS-std_TS, mean_TS+std_TS, alpha=0.5)\n",
    "    plt.plot(np.arange(1,T+1), mean_PHE, '-.', label='PHE')\n",
    "    plt.fill_between(np.arange(1,T+1), mean_PHE-std_PHE, mean_PHE+std_PHE, alpha=0.5)\n",
    "\n",
    "plt.legend()\n",
    "plt.show()\n",
    "plt.close()"
   ]
  }
 ],
 "metadata": {
  "kernelspec": {
   "display_name": "Python 3 (ipykernel)",
   "language": "python",
   "name": "python3"
  },
  "language_info": {
   "codemirror_mode": {
    "name": "ipython",
    "version": 3
   },
   "file_extension": ".py",
   "mimetype": "text/x-python",
   "name": "python",
   "nbconvert_exporter": "python",
   "pygments_lexer": "ipython3",
   "version": "3.12.2"
  }
 },
 "nbformat": 4,
 "nbformat_minor": 4
}
